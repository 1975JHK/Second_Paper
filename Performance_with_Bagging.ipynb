{
  "nbformat": 4,
  "nbformat_minor": 0,
  "metadata": {
    "colab": {
      "name": "Performance with Bagging",
      "provenance": [],
      "collapsed_sections": [],
      "authorship_tag": "ABX9TyPKI0puz9t7XzcdLn0rNoFX",
      "include_colab_link": true
    },
    "kernelspec": {
      "name": "ir",
      "display_name": "R"
    },
    "language_info": {
      "name": "R"
    },
    "accelerator": "GPU"
  },
  "cells": [
    {
      "cell_type": "markdown",
      "metadata": {
        "id": "view-in-github",
        "colab_type": "text"
      },
      "source": [
        "<a href=\"https://colab.research.google.com/github/1975JHK/1975JHK.github.io/blob/main/Performance_with_Bagging.ipynb\" target=\"_parent\"><img src=\"https://colab.research.google.com/assets/colab-badge.svg\" alt=\"Open In Colab\"/></a>"
      ]
    },
    {
      "cell_type": "code",
      "metadata": {
        "colab": {
          "base_uri": "https://localhost:8080/"
        },
        "id": "Aw4DGvkgJa61",
        "outputId": "ef0e134b-bc7c-4344-de67-1872ca51e095"
      },
      "source": [
        "## 3. SVM with Bagging -----------------------------------------------------\n",
        "new.result <- data.frame(trail.1 = rep(NA, times = nrow(test)))\n",
        "for(i in 1:101){\n",
        "  trial <- c(rep(NA, times = nrow(test)))\n",
        "  new.result <- data.frame(new.result, trial)}\n",
        "\n",
        "new.result2 <- cbind(\n",
        "  new.result[ , -c(1:2)],\n",
        "  majority = rep(NA, times = nrow(test)),\n",
        "  count = rep(NA, times = nrow(test)),\n",
        "  rate = rep(NA, times = nrow(test))\n",
        ")\n",
        "\n",
        "for(i in 1:100){\n",
        "  index <- sample(1:nrow(train), nrow(train)*0.8, replace = F)\n",
        "  new.train <- train[index, ]\n",
        "  new.svm <- svm(Y3 ~ ., data = new.train[ , c(1:26)],\n",
        "                 type = type,\n",
        "                 kernel = best2[1, 1],\n",
        "                 cost = best2[1, 2],\n",
        "                 gamma = best2[1, 3],\n",
        "                 epsilon = best2[1, 4])\n",
        "  new.pred = predict(new.svm, newdata = test[ , c(1:25)])\n",
        "  new.result2[ , i] <- new.pred\n",
        "}\n",
        "\n",
        "new.result2$majority <- apply(new.result2[ , 1:100], 1, function(x) names(which.max(table(x))))\n",
        "new.result2$count <- apply(new.result2[ , 1:100], 1, function(x) max(table(x)))\n",
        "new.result2$rate <- new.result2$count/100\n",
        "\n",
        "finals2 <- data.frame(new.result2[ , c(101:103)], test$Y3)\n",
        "\n",
        "cm3 = confusionMatrix(as.factor(finals2$majority), finals2$test.Y3)\n",
        "print(cm3)\n",
        "\n",
        "concolusion3 <- rep(NA, times = 3)\n",
        "concolusion3[1] = cm3$table[4]/(cm3$table[3] + cm3$table[4])\n",
        "concolusion3[2] = cm3$table[1]/(cm3$table[1] + cm3$table[2])\n",
        "concolusion3[3] = (cm3$table[1] + cm3$table[4])/\n",
        "  (cm3$table[1] + cm3$table[2] + cm3$table[3] + cm3$table[4])"
      ],
      "execution_count": 16,
      "outputs": [
        {
          "output_type": "stream",
          "text": [
            "Confusion Matrix and Statistics\n",
            "\n",
            "          Reference\n",
            "Prediction Good Bad\n",
            "      Good   79   2\n",
            "      Bad    10  62\n",
            "                                         \n",
            "               Accuracy : 0.9216         \n",
            "                 95% CI : (0.867, 0.9588)\n",
            "    No Information Rate : 0.5817         \n",
            "    P-Value [Acc > NIR] : < 2e-16        \n",
            "                                         \n",
            "                  Kappa : 0.8416         \n",
            "                                         \n",
            " Mcnemar's Test P-Value : 0.04331        \n",
            "                                         \n",
            "            Sensitivity : 0.8876         \n",
            "            Specificity : 0.9688         \n",
            "         Pos Pred Value : 0.9753         \n",
            "         Neg Pred Value : 0.8611         \n",
            "             Prevalence : 0.5817         \n",
            "         Detection Rate : 0.5163         \n",
            "   Detection Prevalence : 0.5294         \n",
            "      Balanced Accuracy : 0.9282         \n",
            "                                         \n",
            "       'Positive' Class : Good           \n",
            "                                         \n"
          ],
          "name": "stdout"
        }
      ]
    }
  ]
}