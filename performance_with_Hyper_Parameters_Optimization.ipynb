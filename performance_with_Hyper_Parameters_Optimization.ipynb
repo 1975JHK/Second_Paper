{
  "nbformat": 4,
  "nbformat_minor": 0,
  "metadata": {
    "colab": {
      "name": "performance with Hyper-Parameters Optimization",
      "provenance": [],
      "collapsed_sections": [],
      "authorship_tag": "ABX9TyO5m9vd+Y0NmbSRKY3S87Wc",
      "include_colab_link": true
    },
    "kernelspec": {
      "name": "ir",
      "display_name": "R"
    },
    "language_info": {
      "name": "R"
    },
    "accelerator": "GPU"
  },
  "cells": [
    {
      "cell_type": "markdown",
      "metadata": {
        "id": "view-in-github",
        "colab_type": "text"
      },
      "source": [
        "<a href=\"https://colab.research.google.com/github/1975JHK/1975JHK.github.io/blob/main/performance_with_Hyper_Parameters_Optimization.ipynb\" target=\"_parent\"><img src=\"https://colab.research.google.com/assets/colab-badge.svg\" alt=\"Open In Colab\"/></a>"
      ]
    },
    {
      "cell_type": "code",
      "metadata": {
        "colab": {
          "base_uri": "https://localhost:8080/",
          "height": 695
        },
        "id": "NMUfAvXmzKOm",
        "outputId": "c02b7ca7-673c-406d-eda7-ca9753cf6ec4"
      },
      "source": [
        "# Performance Comparison --------------------------------------------------\n",
        "## 2. Hyper-Parameters Optimization\n",
        "### 2-1. Optimization\n",
        "type = 'C-classification'\n",
        "kernel = c('radial', 'polynomial')\n",
        "cost = seq(1, 10, by = 1)\n",
        "gamma = seq(0.01, 0.1, by = 0.01)\n",
        "epsilon = seq(0.01, 0.1, by = 0.01)\n",
        "doe = expand.grid(kernel, cost, gamma, epsilon) %>% rename('kernel' = Var1, \n",
        "                                                           'cost' = Var2,\n",
        "                                                           'gamma' = Var3,\n",
        "                                                           'epsilon' = Var4)\n",
        "kappa <- rep(NA, times = 2000)\n",
        "accuracy <- rep(NA, times = 2000)\n",
        "table2 <- cbind(doe, kappa, accuracy)\n",
        "\n",
        "for(i in 1:2000){\n",
        "  model2 = svm(Y3 ~ ., data = train[ , c(1:25, 27)],\n",
        "               type = type,\n",
        "               kernel = table2[i, 1],\n",
        "               cost = table2[i, 2],\n",
        "               gamma = table2[i, 3],\n",
        "               epsilon = table2[i, 4],\n",
        "               class.weights = list('Normal' = 1.0, 'Good' = 1.5, 'Bad' = 2.0))\n",
        "  \n",
        "  y_pred2 = predict(model2, newdata = test[ , c(1:25)])\n",
        "  cm2 = confusionMatrix(test$Y3, y_pred2)\n",
        "  table2[i, 5] <- cm2$overall[2]\n",
        "  table2[i, 6] <- cm2$overall[1]\n",
        "}\n",
        "\n",
        "table2 <- table2 %>% mutate(score = kappa * accuracy)\n",
        "table2[ ,c(5:7)] <- format(round(table2[ , c(5:7)], 2) , nsmall = 2)\n",
        "best2 <- table2[which.max(table2$score), ]\n",
        "# cat('Results on Hyper-Parameter Optimization Simulation')\n",
        "# datatable(table2)\n",
        "cat('\\n Best Hyper-Parameters \\n')\n",
        "best2\n",
        "\n",
        "### 2-2. Evaluation\n",
        "opt_model2 = svm(Y3 ~ ., data = train[ , c(1:25, 27)],\n",
        "                 type = type,\n",
        "                 kernel = best2[1, 1],\n",
        "                 cost = best2[1, 2],\n",
        "                 gamma = best2[1, 3],\n",
        "                 epsilon = best2[1, 4],\n",
        "                 class.weights = list('Normal' = 1.0, 'Good' = 1.5, 'Bad' = 2.0))\n",
        "\n",
        "opt_pred2 = predict(opt_model2, newdata = test[ , c(1:25)])\n",
        "confusionMatrix(test$Y3, opt_pred2)\n"
      ],
      "execution_count": 4,
      "outputs": [
        {
          "output_type": "stream",
          "text": [
            "\n",
            " Best Hyper-Parameters \n"
          ],
          "name": "stdout"
        },
        {
          "output_type": "display_data",
          "data": {
            "text/plain": [
              "   kernel     cost gamma epsilon kappa accuracy score\n",
              "72 polynomial 6    0.04  0.01    0.44  0.65     0.28 "
            ],
            "text/latex": "A data.frame: 1 × 7\n\\begin{tabular}{r|lllllll}\n  & kernel & cost & gamma & epsilon & kappa & accuracy & score\\\\\n  & <fct> & <dbl> & <dbl> & <dbl> & <I<chr>> & <I<chr>> & <I<chr>>\\\\\n\\hline\n\t72 & polynomial & 6 & 0.04 & 0.01 & 0.44 & 0.65 & 0.28\\\\\n\\end{tabular}\n",
            "text/markdown": "\nA data.frame: 1 × 7\n\n| <!--/--> | kernel &lt;fct&gt; | cost &lt;dbl&gt; | gamma &lt;dbl&gt; | epsilon &lt;dbl&gt; | kappa &lt;I&lt;chr&gt;&gt; | accuracy &lt;I&lt;chr&gt;&gt; | score &lt;I&lt;chr&gt;&gt; |\n|---|---|---|---|---|---|---|---|\n| 72 | polynomial | 6 | 0.04 | 0.01 | 0.44 | 0.65 | 0.28 |\n\n",
            "text/html": [
              "<table class=\"dataframe\">\n",
              "<caption>A data.frame: 1 × 7</caption>\n",
              "<thead>\n",
              "\t<tr><th></th><th scope=col>kernel</th><th scope=col>cost</th><th scope=col>gamma</th><th scope=col>epsilon</th><th scope=col>kappa</th><th scope=col>accuracy</th><th scope=col>score</th></tr>\n",
              "\t<tr><th></th><th scope=col>&lt;fct&gt;</th><th scope=col>&lt;dbl&gt;</th><th scope=col>&lt;dbl&gt;</th><th scope=col>&lt;dbl&gt;</th><th scope=col>&lt;I&lt;chr&gt;&gt;</th><th scope=col>&lt;I&lt;chr&gt;&gt;</th><th scope=col>&lt;I&lt;chr&gt;&gt;</th></tr>\n",
              "</thead>\n",
              "<tbody>\n",
              "\t<tr><th scope=row>72</th><td>polynomial</td><td>6</td><td>0.04</td><td>0.01</td><td>0.44</td><td>0.65</td><td>0.28</td></tr>\n",
              "</tbody>\n",
              "</table>\n"
            ]
          },
          "metadata": {
            "tags": []
          }
        },
        {
          "output_type": "display_data",
          "data": {
            "text/plain": [
              "Confusion Matrix and Statistics\n",
              "\n",
              "          Reference\n",
              "Prediction Normal Good Bad\n",
              "    Normal     75   63   6\n",
              "    Good       21   79   1\n",
              "    Bad         0   11  33\n",
              "\n",
              "Overall Statistics\n",
              "                                          \n",
              "               Accuracy : 0.6471          \n",
              "                 95% CI : (0.5889, 0.7021)\n",
              "    No Information Rate : 0.5294          \n",
              "    P-Value [Acc > NIR] : 3.409e-05       \n",
              "                                          \n",
              "                  Kappa : 0.4383          \n",
              "                                          \n",
              " Mcnemar's Test P-Value : 1.036e-07       \n",
              "\n",
              "Statistics by Class:\n",
              "\n",
              "                     Class: Normal Class: Good Class: Bad\n",
              "Sensitivity                 0.7812      0.5163     0.8250\n",
              "Specificity                 0.6425      0.8382     0.9558\n",
              "Pos Pred Value              0.5208      0.7822     0.7500\n",
              "Neg Pred Value              0.8552      0.6064     0.9714\n",
              "Prevalence                  0.3322      0.5294     0.1384\n",
              "Detection Rate              0.2595      0.2734     0.1142\n",
              "Detection Prevalence        0.4983      0.3495     0.1522\n",
              "Balanced Accuracy           0.7119      0.6773     0.8904"
            ]
          },
          "metadata": {
            "tags": []
          }
        }
      ]
    }
  ]
}