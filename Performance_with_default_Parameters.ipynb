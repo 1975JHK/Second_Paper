{
  "nbformat": 4,
  "nbformat_minor": 0,
  "metadata": {
    "colab": {
      "name": "Performance with default Parameters",
      "provenance": [],
      "collapsed_sections": [],
      "authorship_tag": "ABX9TyNz/sbzWoOlDh1/lGprSM9c",
      "include_colab_link": true
    },
    "kernelspec": {
      "name": "ir",
      "display_name": "R"
    },
    "language_info": {
      "name": "R"
    },
    "accelerator": "GPU"
  },
  "cells": [
    {
      "cell_type": "markdown",
      "metadata": {
        "id": "view-in-github",
        "colab_type": "text"
      },
      "source": [
        "<a href=\"https://colab.research.google.com/github/1975JHK/1975JHK.github.io/blob/main/Performance_with_default_Parameters.ipynb\" target=\"_parent\"><img src=\"https://colab.research.google.com/assets/colab-badge.svg\" alt=\"Open In Colab\"/></a>"
      ]
    },
    {
      "cell_type": "code",
      "metadata": {
        "colab": {
          "base_uri": "https://localhost:8080/"
        },
        "id": "Eh_Q65Z1Hb0B",
        "outputId": "65d3f7a9-ae35-4013-93a8-e16be993c519"
      },
      "source": [
        "# Performance Comparison --------------------------------------------------\n",
        "## 1. Default Parameters ---------------------------------------------------\n",
        "default_model = svm(Y3 ~ ., data = train[ , c(1:26)],\n",
        "                    type = 'C-classification')\n",
        "\n",
        "default_pred <- predict(default_model, newdata = test[ , 1:25])\n",
        "\n",
        "default_result <- data.frame(default_pred, test$Y3) %>% \n",
        "  rename(Predicted = default_pred, Actual = test.Y3)\n",
        "\n",
        "cm1 <- with(default_result, confusionMatrix(Predicted, Actual))\n",
        "print(cm1)\n",
        "concolusion1 <- rep(NA, times = 3)\n",
        "  concolusion1[1] = cm1$table[4]/(cm1$table[3] + cm1$table[4])\n",
        "  concolusion1[2] = cm1$table[1]/(cm1$table[1] + cm1$table[2])\n",
        "  concolusion1[3] = (cm1$table[1] + cm1$table[4])/\n",
        "    (cm1$table[1] + cm1$table[2] + cm1$table[3] + cm1$table[4])\n"
      ],
      "execution_count": 10,
      "outputs": [
        {
          "output_type": "stream",
          "text": [
            "Confusion Matrix and Statistics\n",
            "\n",
            "          Reference\n",
            "Prediction Good Bad\n",
            "      Good   76   5\n",
            "      Bad    13  59\n",
            "                                          \n",
            "               Accuracy : 0.8824          \n",
            "                 95% CI : (0.8205, 0.9288)\n",
            "    No Information Rate : 0.5817          \n",
            "    P-Value [Acc > NIR] : 3.753e-16       \n",
            "                                          \n",
            "                  Kappa : 0.7624          \n",
            "                                          \n",
            " Mcnemar's Test P-Value : 0.09896         \n",
            "                                          \n",
            "            Sensitivity : 0.8539          \n",
            "            Specificity : 0.9219          \n",
            "         Pos Pred Value : 0.9383          \n",
            "         Neg Pred Value : 0.8194          \n",
            "             Prevalence : 0.5817          \n",
            "         Detection Rate : 0.4967          \n",
            "   Detection Prevalence : 0.5294          \n",
            "      Balanced Accuracy : 0.8879          \n",
            "                                          \n",
            "       'Positive' Class : Good            \n",
            "                                          \n"
          ],
          "name": "stdout"
        }
      ]
    }
  ]
}