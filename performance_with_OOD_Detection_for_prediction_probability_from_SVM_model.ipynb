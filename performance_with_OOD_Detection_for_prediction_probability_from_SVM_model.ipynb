{
  "nbformat": 4,
  "nbformat_minor": 0,
  "metadata": {
    "colab": {
      "name": "performance with OOD Detection for prediction probability from SVM model",
      "provenance": [],
      "collapsed_sections": [],
      "authorship_tag": "ABX9TyM4uTHo+r8RwtHmIZ411WSN",
      "include_colab_link": true
    },
    "kernelspec": {
      "name": "ir",
      "display_name": "R"
    },
    "language_info": {
      "name": "R"
    },
    "accelerator": "GPU"
  },
  "cells": [
    {
      "cell_type": "markdown",
      "metadata": {
        "id": "view-in-github",
        "colab_type": "text"
      },
      "source": [
        "<a href=\"https://colab.research.google.com/github/1975JHK/1975JHK.github.io/blob/main/performance_with_OOD_Detection_for_prediction_probability_from_SVM_model.ipynb\" target=\"_parent\"><img src=\"https://colab.research.google.com/assets/colab-badge.svg\" alt=\"Open In Colab\"/></a>"
      ]
    },
    {
      "cell_type": "code",
      "metadata": {
        "colab": {
          "base_uri": "https://localhost:8080/"
        },
        "id": "9tA_oAaK48z-",
        "outputId": "fc693f22-b9d9-4fc7-e068-dc0271e0442c"
      },
      "source": [
        "## 5. OOD Detection for prediction probability from SVM single model\n",
        "probability <- apply(attr(opt_pred2, \"probabilities\"), 1, max)\n",
        "new.result <- data.frame(opt_pred2, probability, test$Y3) %>% \n",
        "  rename(label = opt_pred2)\n",
        "\n",
        "test_kit <- data.frame(rate = seq(0.500, 0.999, by = 0.001),\n",
        "                        accuraty = rep(NA, length = 500))\n",
        "for(i in 1:nrow(test_kit)){\n",
        "  finals <- new.result %>% filter(test_kit[i, 1] < probability)\n",
        "  cm = confusionMatrix(as.factor(finals$label), \n",
        "                       finals$test.Y3)\n",
        "  test_kit[i, 2] = cm$overall[1]\n",
        "}\n",
        "\n",
        "best_rate <- test_kit[which.max(test_kit[ , 2]), 1]\n",
        "\n",
        "\n",
        "finals <- new.result %>% filter(best_rate[1] <= probability)\n",
        "\n",
        "new.cm3 = confusionMatrix(as.factor(finals$label), finals$test.Y3)\n",
        "print(new.cm3)\n"
      ],
      "execution_count": 10,
      "outputs": [
        {
          "output_type": "stream",
          "text": [
            "Confusion Matrix and Statistics\n",
            "\n",
            "          Reference\n",
            "Prediction Normal Good Bad\n",
            "    Normal     57   12   0\n",
            "    Good       39   41   0\n",
            "    Bad         3    0  11\n",
            "\n",
            "Overall Statistics\n",
            "                                          \n",
            "               Accuracy : 0.6687          \n",
            "                 95% CI : (0.5908, 0.7404)\n",
            "    No Information Rate : 0.6074          \n",
            "    P-Value [Acc > NIR] : 0.06268         \n",
            "                                          \n",
            "                  Kappa : 0.4264          \n",
            "                                          \n",
            " Mcnemar's Test P-Value : NA              \n",
            "\n",
            "Statistics by Class:\n",
            "\n",
            "                     Class: Normal Class: Good Class: Bad\n",
            "Sensitivity                 0.5758      0.7736    1.00000\n",
            "Specificity                 0.8125      0.6455    0.98026\n",
            "Pos Pred Value              0.8261      0.5125    0.78571\n",
            "Neg Pred Value              0.5532      0.8554    1.00000\n",
            "Prevalence                  0.6074      0.3252    0.06748\n",
            "Detection Rate              0.3497      0.2515    0.06748\n",
            "Detection Prevalence        0.4233      0.4908    0.08589\n",
            "Balanced Accuracy           0.6941      0.7095    0.99013\n"
          ],
          "name": "stdout"
        }
      ]
    }
  ]
}