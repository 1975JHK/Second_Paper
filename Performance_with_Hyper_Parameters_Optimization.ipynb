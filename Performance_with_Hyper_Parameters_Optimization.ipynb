{
  "nbformat": 4,
  "nbformat_minor": 0,
  "metadata": {
    "colab": {
      "name": "Performance with Hyper-Parameters Optimization",
      "provenance": [],
      "collapsed_sections": [],
      "authorship_tag": "ABX9TyOlhsfxNGP6JXWGbf46Pa0c",
      "include_colab_link": true
    },
    "kernelspec": {
      "name": "ir",
      "display_name": "R"
    },
    "language_info": {
      "name": "R"
    },
    "accelerator": "GPU"
  },
  "cells": [
    {
      "cell_type": "markdown",
      "metadata": {
        "id": "view-in-github",
        "colab_type": "text"
      },
      "source": [
        "<a href=\"https://colab.research.google.com/github/1975JHK/1975JHK.github.io/blob/main/Performance_with_Hyper_Parameters_Optimization.ipynb\" target=\"_parent\"><img src=\"https://colab.research.google.com/assets/colab-badge.svg\" alt=\"Open In Colab\"/></a>"
      ]
    },
    {
      "cell_type": "code",
      "metadata": {
        "colab": {
          "base_uri": "https://localhost:8080/",
          "height": 642
        },
        "id": "JTOV4YL9H4F0",
        "outputId": "d88c7ca0-ec7b-4597-e68f-35e2e0d5f248"
      },
      "source": [
        "## 2. Hyper-Parameters Optimization ----------------------------------------\n",
        "### 2-1. Optimization\n",
        "type = 'C-classification'\n",
        "kernel = c('radial', 'polynomial')\n",
        "cost = seq(1, 10, by = 1)\n",
        "gamma = seq(0.01, 0.1, by = 0.01)\n",
        "epsilon = seq(0.01, 0.1, by = 0.01)\n",
        "doe = expand.grid(kernel, cost, gamma, epsilon) %>% rename('kernel' = Var1, \n",
        "                                                           'cost' = Var2,\n",
        "                                                           'gamma' = Var3,\n",
        "                                                           'epsilon' = Var4)\n",
        "kappa <- rep(NA, times = 2000)\n",
        "accuracy <- rep(NA, times = 2000)\n",
        "table <- cbind(doe, kappa, accuracy)\n",
        "\n",
        "for(i in 1:2000){\n",
        "  model2 = svm(Y3 ~ ., data = train[ , c(1:26)],\n",
        "               type = type,\n",
        "               kernel = table[i, 1],\n",
        "               cost = table[i, 2],\n",
        "               gamma = table[i, 3],\n",
        "               epsilon = table[i, 4])\n",
        "  \n",
        "  y_pred2 = predict(model2, newdata = test[ , c(1:25)])\n",
        "  cm2 = confusionMatrix(test$Y3, y_pred2)\n",
        "  table[i, 5] <- cm2$overall[2]\n",
        "  table[i, 6] <- cm2$overall[1]\n",
        "}\n",
        "\n",
        "table <- table %>% mutate(score = kappa * accuracy)\n",
        "table[ ,c(5:7)] <- format(round(table[ , c(5:7)], 2) , nsmall = 2)\n",
        "best2 <- table[which.max(table$score), ]\n",
        "cat('\\n Best Hyper-Parameters \\n')\n",
        "best2\n",
        "\n",
        "### 2-2. Evaluation\n",
        "opt_model2 = svm(Y3 ~ ., data = train[ , c(1:26)],\n",
        "                 type = type,\n",
        "                 kernel = best2[1, 1],\n",
        "                 cost = best2[1, 2],\n",
        "                 gamma = best2[1, 3],\n",
        "                 epsilon = best2[1, 4])\n",
        "\n",
        "opt_pred2 = predict(opt_model2, newdata = test[ , c(1:25)])\n",
        "cm2 <- confusionMatrix(opt_pred2, test$Y3)\n",
        "print(cm2)\n",
        "\n",
        "concolusion2 <- rep(NA, times = 3)\n",
        "concolusion2[1] = cm2$table[4]/(cm2$table[3] + cm2$table[4])\n",
        "concolusion2[2] = cm2$table[1]/(cm2$table[1] + cm2$table[2])\n",
        "concolusion2[3] = (cm2$table[1] + cm2$table[4])/\n",
        "  (cm2$table[1] + cm2$table[2] + cm2$table[3] + cm2$table[4])\n"
      ],
      "execution_count": 12,
      "outputs": [
        {
          "output_type": "stream",
          "text": [
            "\n",
            " Best Hyper-Parameters \n"
          ],
          "name": "stdout"
        },
        {
          "output_type": "display_data",
          "data": {
            "text/plain": [
              "    kernel cost gamma epsilon kappa accuracy score\n",
              "183 radial 2    0.1   0.01    0.84  0.92     0.78 "
            ],
            "text/latex": "A data.frame: 1 × 7\n\\begin{tabular}{r|lllllll}\n  & kernel & cost & gamma & epsilon & kappa & accuracy & score\\\\\n  & <fct> & <dbl> & <dbl> & <dbl> & <I<chr>> & <I<chr>> & <I<chr>>\\\\\n\\hline\n\t183 & radial & 2 & 0.1 & 0.01 & 0.84 & 0.92 & 0.78\\\\\n\\end{tabular}\n",
            "text/markdown": "\nA data.frame: 1 × 7\n\n| <!--/--> | kernel &lt;fct&gt; | cost &lt;dbl&gt; | gamma &lt;dbl&gt; | epsilon &lt;dbl&gt; | kappa &lt;I&lt;chr&gt;&gt; | accuracy &lt;I&lt;chr&gt;&gt; | score &lt;I&lt;chr&gt;&gt; |\n|---|---|---|---|---|---|---|---|\n| 183 | radial | 2 | 0.1 | 0.01 | 0.84 | 0.92 | 0.78 |\n\n",
            "text/html": [
              "<table class=\"dataframe\">\n",
              "<caption>A data.frame: 1 × 7</caption>\n",
              "<thead>\n",
              "\t<tr><th></th><th scope=col>kernel</th><th scope=col>cost</th><th scope=col>gamma</th><th scope=col>epsilon</th><th scope=col>kappa</th><th scope=col>accuracy</th><th scope=col>score</th></tr>\n",
              "\t<tr><th></th><th scope=col>&lt;fct&gt;</th><th scope=col>&lt;dbl&gt;</th><th scope=col>&lt;dbl&gt;</th><th scope=col>&lt;dbl&gt;</th><th scope=col>&lt;I&lt;chr&gt;&gt;</th><th scope=col>&lt;I&lt;chr&gt;&gt;</th><th scope=col>&lt;I&lt;chr&gt;&gt;</th></tr>\n",
              "</thead>\n",
              "<tbody>\n",
              "\t<tr><th scope=row>183</th><td>radial</td><td>2</td><td>0.1</td><td>0.01</td><td>0.84</td><td>0.92</td><td>0.78</td></tr>\n",
              "</tbody>\n",
              "</table>\n"
            ]
          },
          "metadata": {}
        },
        {
          "output_type": "stream",
          "text": [
            "Confusion Matrix and Statistics\n",
            "\n",
            "          Reference\n",
            "Prediction Good Bad\n",
            "      Good   79   2\n",
            "      Bad    10  62\n",
            "                                         \n",
            "               Accuracy : 0.9216         \n",
            "                 95% CI : (0.867, 0.9588)\n",
            "    No Information Rate : 0.5817         \n",
            "    P-Value [Acc > NIR] : < 2e-16        \n",
            "                                         \n",
            "                  Kappa : 0.8416         \n",
            "                                         \n",
            " Mcnemar's Test P-Value : 0.04331        \n",
            "                                         \n",
            "            Sensitivity : 0.8876         \n",
            "            Specificity : 0.9688         \n",
            "         Pos Pred Value : 0.9753         \n",
            "         Neg Pred Value : 0.8611         \n",
            "             Prevalence : 0.5817         \n",
            "         Detection Rate : 0.5163         \n",
            "   Detection Prevalence : 0.5294         \n",
            "      Balanced Accuracy : 0.9282         \n",
            "                                         \n",
            "       'Positive' Class : Good           \n",
            "                                         \n"
          ],
          "name": "stdout"
        }
      ]
    }
  ]
}