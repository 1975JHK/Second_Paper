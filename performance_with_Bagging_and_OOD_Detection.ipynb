{
  "nbformat": 4,
  "nbformat_minor": 0,
  "metadata": {
    "colab": {
      "name": "performance with Bagging and OOD Detection",
      "provenance": [],
      "collapsed_sections": [],
      "authorship_tag": "ABX9TyP6rjhNt+iqGLh4L8eRR4tZ",
      "include_colab_link": true
    },
    "kernelspec": {
      "name": "ir",
      "display_name": "R"
    },
    "language_info": {
      "name": "R"
    },
    "accelerator": "GPU"
  },
  "cells": [
    {
      "cell_type": "markdown",
      "metadata": {
        "id": "view-in-github",
        "colab_type": "text"
      },
      "source": [
        "<a href=\"https://colab.research.google.com/github/1975JHK/1975JHK.github.io/blob/main/performance_with_Bagging_and_OOD_Detection.ipynb\" target=\"_parent\"><img src=\"https://colab.research.google.com/assets/colab-badge.svg\" alt=\"Open In Colab\"/></a>"
      ]
    },
    {
      "cell_type": "code",
      "metadata": {
        "colab": {
          "base_uri": "https://localhost:8080/"
        },
        "id": "95T-8bNS2-mC",
        "outputId": "3a835e63-9628-4c81-b463-5a5e87c39cd6"
      },
      "source": [
        "# Performance Comparison --------------------------------------------------\n",
        "## 4. Bagging + Baseline OOD Detection\n",
        "options(warn=-1)\n",
        "\n",
        "new.result <- data.frame(trail.1 = rep(NA, times = nrow(test)))\n",
        "for(i in 1:101){\n",
        "  trial <- c(rep(NA, times = nrow(test)))\n",
        "  new.result <- data.frame(new.result, trial)}\n",
        "\n",
        "new.result2 <- cbind(\n",
        "  new.result[ , -c(1:2)],\n",
        "  majority = rep(NA, times = nrow(test)),\n",
        "  count = rep(NA, times = nrow(test)),\n",
        "  rate = rep(NA, times = nrow(test))\n",
        ")\n",
        "\n",
        "for(i in 1:100){\n",
        "  index <- sample(1:nrow(train), nrow(train)*0.80, replace = F)\n",
        "  new.train <- train[index, ]\n",
        "  new.svm <- svm(Y3 ~ ., data = new.train[ , c(1:25, 27)],\n",
        "                 type = type,\n",
        "                 kernel = best2[1, 1],\n",
        "                 cost = best2[1, 2],\n",
        "                 gamma = best2[1, 3],\n",
        "                 epsilon = best2[1, 4],\n",
        "                 class.weights = list('Normal' = 1.0, 'Good' = 1.5, 'Bad' = 2.0))\n",
        "  new.pred = predict(new.svm, newdata = test[ , c(1:25)])\n",
        "  new.result2[ , i] <- new.pred\n",
        "}\n",
        "\n",
        "new.result2$majority <- apply(new.result2[ , 1:100], 1, function(x) names(which.max(table(x))))\n",
        "new.result2$count <- apply(new.result2[ , 1:100], 1, function(x) max(table(x)))\n",
        "new.result2$rate <- new.result2$count/100\n",
        "\n",
        "finals_sh <- data.frame(new.result2[ , c(101:103)], test$Y3)\n",
        "test_kit2 <- data.frame(rate = seq(0.800, 0.999, by = 0.001),\n",
        "                       accuraty = rep(NA, length = 200))\n",
        "for(i in 1:nrow(test_kit2)){\n",
        "  finals_sh2 <- finals_sh %>% filter(test_kit2[i, 1] < rate)\n",
        "  cm = confusionMatrix(as.factor(finals_sh2$majority), \n",
        "                       finals_sh2$test.Y3)\n",
        "  test_kit2[i, 2] = cm$overall[1]\n",
        "}\n",
        "\n",
        "best_rate2 <- test_kit2[which.max(test_kit2[ , 2]), 1]\n",
        "finals_sh <- finals_sh %>% filter(best_rate2[1]+0.005 <= rate)\n",
        "\n",
        "new.cm4 = confusionMatrix(as.factor(finals_sh$majority), finals_sh$test.Y3)\n",
        "print(new.cm4)\n"
      ],
      "execution_count": 13,
      "outputs": [
        {
          "output_type": "stream",
          "text": [
            "Confusion Matrix and Statistics\n",
            "\n",
            "          Reference\n",
            "Prediction Normal Good Bad\n",
            "    Normal     45    7   0\n",
            "    Good       27   41   0\n",
            "    Bad         3    0  33\n",
            "\n",
            "Overall Statistics\n",
            "                                          \n",
            "               Accuracy : 0.7628          \n",
            "                 95% CI : (0.6882, 0.8272)\n",
            "    No Information Rate : 0.4808          \n",
            "    P-Value [Acc > NIR] : 5.635e-13       \n",
            "                                          \n",
            "                  Kappa : 0.6389          \n",
            "                                          \n",
            " Mcnemar's Test P-Value : NA              \n",
            "\n",
            "Statistics by Class:\n",
            "\n",
            "                     Class: Normal Class: Good Class: Bad\n",
            "Sensitivity                 0.6000      0.8542     1.0000\n",
            "Specificity                 0.9136      0.7500     0.9756\n",
            "Pos Pred Value              0.8654      0.6029     0.9167\n",
            "Neg Pred Value              0.7115      0.9205     1.0000\n",
            "Prevalence                  0.4808      0.3077     0.2115\n",
            "Detection Rate              0.2885      0.2628     0.2115\n",
            "Detection Prevalence        0.3333      0.4359     0.2308\n",
            "Balanced Accuracy           0.7568      0.8021     0.9878\n"
          ],
          "name": "stdout"
        }
      ]
    }
  ]
}