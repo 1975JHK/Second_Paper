{
  "nbformat": 4,
  "nbformat_minor": 0,
  "metadata": {
    "colab": {
      "name": "Performance with Bagging and OOD Detection",
      "provenance": [],
      "collapsed_sections": [],
      "authorship_tag": "ABX9TyNgUKqfAShSOb8p+EAb5yJA",
      "include_colab_link": true
    },
    "kernelspec": {
      "name": "ir",
      "display_name": "R"
    },
    "language_info": {
      "name": "R"
    },
    "accelerator": "GPU"
  },
  "cells": [
    {
      "cell_type": "markdown",
      "metadata": {
        "id": "view-in-github",
        "colab_type": "text"
      },
      "source": [
        "<a href=\"https://colab.research.google.com/github/1975JHK/1975JHK.github.io/blob/main/Performance_with_Bagging_and_OOD_Detection.ipynb\" target=\"_parent\"><img src=\"https://colab.research.google.com/assets/colab-badge.svg\" alt=\"Open In Colab\"/></a>"
      ]
    },
    {
      "cell_type": "code",
      "metadata": {
        "colab": {
          "base_uri": "https://localhost:8080/"
        },
        "id": "aUQcFKXuKIQo",
        "outputId": "d11c440a-a016-47c6-bd95-b3702c02279d"
      },
      "source": [
        "## 4. OOD Detection --------------------------------------------------------\n",
        "new.result <- data.frame(trail.1 = rep(NA, times = nrow(test)))\n",
        "for(i in 1:101){\n",
        "  trial <- c(rep(NA, times = nrow(test)))\n",
        "  new.result <- data.frame(new.result, trial)}\n",
        "\n",
        "new.result2 <- cbind(\n",
        "  new.result[ , -c(1:2)],\n",
        "  majority = rep(NA, times = nrow(test)),\n",
        "  count = rep(NA, times = nrow(test)),\n",
        "  rate = rep(NA, times = nrow(test))\n",
        ")\n",
        "\n",
        "\n",
        "for(i in 1:100){\n",
        "  index <- sample(1:nrow(train), nrow(train)*0.8, replace = F)\n",
        "  new.train <- train[index, ]\n",
        "  new.svm <- svm(Y3 ~ ., data = new.train[ , c(1:26)],\n",
        "                 type = type,\n",
        "                 kernel = best2[1, 1],\n",
        "                 cost = best2[1, 2],\n",
        "                 gamma = best2[1, 3],\n",
        "                 epsilon = best2[1, 4])\n",
        "  new.pred = predict(new.svm, newdata = test[ , c(1:25)])\n",
        "  new.result2[ , i] <- new.pred\n",
        "}\n",
        "\n",
        "new.result2$majority <- apply(new.result2[ , 1:100], 1, function(x) names(which.max(table(x))))\n",
        "new.result2$count <- apply(new.result2[ , 1:100], 1, function(x) max(table(x)))\n",
        "new.result2$rate <- new.result2$count/100\n",
        "\n",
        "finals_sh <- data.frame(new.result2[ , c(101:103)], test$Y3)\n",
        "test_kit2 <- data.frame(rate = seq(0.800, 0.999, by = 0.001),\n",
        "                        accuraty = rep(NA, length = 200))\n",
        "for(i in 1:nrow(test_kit2)){\n",
        "  finals_sh2 <- finals_sh %>% filter(test_kit2[i, 1] < rate)\n",
        "  cm = confusionMatrix(as.factor(finals_sh2$majority), \n",
        "                       finals_sh2$test.Y3)\n",
        "  test_kit2[i, 2] = cm$overall[1]\n",
        "}\n",
        "\n",
        "best_rate2 <- test_kit2[which.max(test_kit2[ , 2]), 1]\n",
        "finals_sh <- finals_sh %>% filter(best_rate2[1] <= rate)\n",
        "\n",
        "cm4 = confusionMatrix(as.factor(finals_sh$majority), finals_sh$test.Y3)\n",
        "print(cm4)\n",
        "\n",
        "concolusion4 <- rep(NA, times = 3)\n",
        "concolusion4[1] = cm4$table[4]/(cm4$table[3] + cm4$table[4])\n",
        "concolusion4[2] = cm4$table[1]/(cm4$table[1] + cm4$table[2])\n",
        "concolusion4[3] = (cm4$table[1] + cm4$table[4])/\n",
        "  (cm4$table[1] + cm4$table[2] + cm4$table[3] + cm4$table[4])"
      ],
      "execution_count": 17,
      "outputs": [
        {
          "output_type": "stream",
          "text": [
            "Confusion Matrix and Statistics\n",
            "\n",
            "          Reference\n",
            "Prediction Good Bad\n",
            "      Good   72   2\n",
            "      Bad     3  50\n",
            "                                          \n",
            "               Accuracy : 0.9606          \n",
            "                 95% CI : (0.9105, 0.9871)\n",
            "    No Information Rate : 0.5906          \n",
            "    P-Value [Acc > NIR] : <2e-16          \n",
            "                                          \n",
            "                  Kappa : 0.9188          \n",
            "                                          \n",
            " Mcnemar's Test P-Value : 1               \n",
            "                                          \n",
            "            Sensitivity : 0.9600          \n",
            "            Specificity : 0.9615          \n",
            "         Pos Pred Value : 0.9730          \n",
            "         Neg Pred Value : 0.9434          \n",
            "             Prevalence : 0.5906          \n",
            "         Detection Rate : 0.5669          \n",
            "   Detection Prevalence : 0.5827          \n",
            "      Balanced Accuracy : 0.9608          \n",
            "                                          \n",
            "       'Positive' Class : Good            \n",
            "                                          \n"
          ],
          "name": "stdout"
        }
      ]
    }
  ]
}