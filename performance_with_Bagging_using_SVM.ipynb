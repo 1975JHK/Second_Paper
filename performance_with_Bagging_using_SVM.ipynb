{
  "nbformat": 4,
  "nbformat_minor": 0,
  "metadata": {
    "colab": {
      "name": "performance with Bagging using SVM",
      "provenance": [],
      "collapsed_sections": [],
      "authorship_tag": "ABX9TyOFO3Vu9u05ip/Ff6PWijs6",
      "include_colab_link": true
    },
    "kernelspec": {
      "name": "ir",
      "display_name": "R"
    },
    "language_info": {
      "name": "R"
    },
    "accelerator": "GPU"
  },
  "cells": [
    {
      "cell_type": "markdown",
      "metadata": {
        "id": "view-in-github",
        "colab_type": "text"
      },
      "source": [
        "<a href=\"https://colab.research.google.com/github/1975JHK/1975JHK.github.io/blob/main/performance_with_Bagging_using_SVM.ipynb\" target=\"_parent\"><img src=\"https://colab.research.google.com/assets/colab-badge.svg\" alt=\"Open In Colab\"/></a>"
      ]
    },
    {
      "cell_type": "code",
      "metadata": {
        "colab": {
          "base_uri": "https://localhost:8080/"
        },
        "id": "wLt61rqI2dz1",
        "outputId": "44029855-4990-4b63-81c1-e47957746053"
      },
      "source": [
        "# Performance Comparison --------------------------------------------------\n",
        "## 3. SVM with Bagging\n",
        "new.result <- data.frame(trail.1 = rep(NA, times = nrow(test)))\n",
        "for(i in 1:101){\n",
        "  trial <- c(rep(NA, times = nrow(test)))\n",
        "  new.result <- data.frame(new.result, trial)}\n",
        "\n",
        "new.result2 <- cbind(\n",
        "  new.result[ , -c(1:2)],\n",
        "  majority = rep(NA, times = nrow(test)),\n",
        "  count = rep(NA, times = nrow(test)),\n",
        "  rate = rep(NA, times = nrow(test))\n",
        ")\n",
        "\n",
        "\n",
        "for(i in 1:100){\n",
        "  index <- sample(1:nrow(train), nrow(train)*0.8, replace = F)\n",
        "  new.train <- train[index, ]\n",
        "  new.svm <- svm(Y3 ~ ., data = new.train[ , c(1:25, 27)],\n",
        "                 type = type,\n",
        "                 kernel = best2[1, 1],\n",
        "                 cost = best2[1, 2],\n",
        "                 gamma = best2[1, 3],\n",
        "                 epsilon = best2[1, 4],\n",
        "                 class.weights = list('Normal' = 1.0, 'Good' = 1.5, 'Bad' = 2.0))\n",
        "  new.pred = predict(new.svm, newdata = test[ , c(1:25)])\n",
        "  new.result2[ , i] <- new.pred\n",
        "}\n",
        "\n",
        "new.result2$majority <- apply(new.result2[ , 1:100], 1, function(x) names(which.max(table(x))))\n",
        "new.result2$count <- apply(new.result2[ , 1:100], 1, function(x) max(table(x)))\n",
        "new.result2$rate <- new.result2$count/100\n",
        "\n",
        "finals2 <- data.frame(new.result2[ , c(101:103)], test$Y3)\n",
        "\n",
        "new.cm3 = confusionMatrix(as.factor(finals2$majority), finals2$test.Y3)\n",
        "print(new.cm3)"
      ],
      "execution_count": 5,
      "outputs": [
        {
          "output_type": "stream",
          "text": [
            "Warning message in confusionMatrix.default(as.factor(finals2$majority), finals2$test.Y3):\n",
            "“Levels are not in the same order for reference and data. Refactoring data to match.”\n"
          ],
          "name": "stderr"
        },
        {
          "output_type": "stream",
          "text": [
            "Confusion Matrix and Statistics\n",
            "\n",
            "          Reference\n",
            "Prediction Normal Good Bad\n",
            "    Normal     75   23   0\n",
            "    Good       63   75  11\n",
            "    Bad         6    3  33\n",
            "\n",
            "Overall Statistics\n",
            "                                          \n",
            "               Accuracy : 0.6332          \n",
            "                 95% CI : (0.5748, 0.6889)\n",
            "    No Information Rate : 0.4983          \n",
            "    P-Value [Acc > NIR] : 2.629e-06       \n",
            "                                          \n",
            "                  Kappa : 0.4166          \n",
            "                                          \n",
            " Mcnemar's Test P-Value : 2.057e-06       \n",
            "\n",
            "Statistics by Class:\n",
            "\n",
            "                     Class: Normal Class: Good Class: Bad\n",
            "Sensitivity                 0.5208      0.7426     0.7500\n",
            "Specificity                 0.8414      0.6064     0.9633\n",
            "Pos Pred Value              0.7653      0.5034     0.7857\n",
            "Neg Pred Value              0.6387      0.8143     0.9555\n",
            "Prevalence                  0.4983      0.3495     0.1522\n",
            "Detection Rate              0.2595      0.2595     0.1142\n",
            "Detection Prevalence        0.3391      0.5156     0.1453\n",
            "Balanced Accuracy           0.6811      0.6745     0.8566\n"
          ],
          "name": "stdout"
        }
      ]
    }
  ]
}