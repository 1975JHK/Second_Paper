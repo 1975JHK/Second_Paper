{
  "nbformat": 4,
  "nbformat_minor": 0,
  "metadata": {
    "colab": {
      "name": "code for the second paper",
      "provenance": [],
      "collapsed_sections": [],
      "authorship_tag": "ABX9TyPiC9KzAVFuDYTCv7dntW5o",
      "include_colab_link": true
    },
    "kernelspec": {
      "name": "ir",
      "display_name": "R"
    },
    "language_info": {
      "name": "R"
    },
    "accelerator": "GPU"
  },
  "cells": [
    {
      "cell_type": "markdown",
      "metadata": {
        "id": "view-in-github",
        "colab_type": "text"
      },
      "source": [
        "<a href=\"https://colab.research.google.com/github/1975JHK/1975JHK.github.io/blob/main/code_for_the_second_paper.ipynb\" target=\"_parent\"><img src=\"https://colab.research.google.com/assets/colab-badge.svg\" alt=\"Open In Colab\"/></a>"
      ]
    },
    {
      "cell_type": "code",
      "metadata": {
        "id": "r0Trvkx_ahC4",
        "colab": {
          "base_uri": "https://localhost:8080/",
          "height": 1000
        },
        "outputId": "8bf7fe7c-b838-4766-ed30-0053179e4fdb"
      },
      "source": [
        "##################################################\n",
        "# Performance Comparison among predictive models #\n",
        "#  1) Default Parameters                         #\n",
        "#  2) Hyper-Parameters Optimization              #\n",
        "#  3) SVM Bagging                                #\n",
        "#  4) SVM Bagging + Baseline OOD Detection       #\n",
        "# Coded on August 6, 2021                       #\n",
        "# Coded By Robin Kim                             #\n",
        "##################################################\n",
        "\n",
        "# Installing the required packages\n",
        "pkgs <- c('tidyverse', 'caret', 'see', 'e1071', 'DT', 'easypackages')\n",
        "install.packages(pkgs)\n",
        "\n",
        "# Loading the required packages\n",
        "library(easypackages)\n",
        "libraries(pkgs)\n",
        "\n",
        "# Setting up the environments\n",
        "Sys.setenv(LANG = 'en')\n",
        "theme_set(new = theme_minimal())\n",
        "\n",
        "# Importing the dataset\n",
        "raw <- read.csv('/process_data.csv')\n",
        "raw <- raw[ , -c(66:73)]\n",
        "str(raw)\n",
        "\n",
        "# Initial Preprocessing\n",
        "## Extracting 2nd Plat Data from Raw Dataset\n",
        "raw <- raw %>% filter(Var1 == 'P2')\n",
        "\n",
        "## Feature Selection\n",
        "df <- raw[ , -c(1:6, 10, 14:15, 39:45, 51:61, 63:64)]\n",
        "colnames(df)\n",
        "\n",
        "## Handling the Not Availables\n",
        "apply(df, 2, function(x) sum(is.na(x)))\n",
        "df <- na.omit(df)\n",
        "\n",
        "## Classifying Tissu.Type\n",
        "df$Var49 <- ifelse(df$Var49 == 'J' & df$Var52 < 3000, 'S', df$Var49)\n",
        "df <- df[ , -36]\n",
        "\n",
        "## Removing features with zero variance \n",
        "nearZeroVar(df, saveMetrics = T)\n",
        "df.nvz <- nearZeroVar(df, saveMetrics = F)\n",
        "df <- df[ , -df.nvz]\n",
        "\n",
        "df <- df[ , -16]  # consists with zero(0)\n",
        "\n",
        "## Separating the dates\n",
        "df <- df %>% separate(Var8, into = c('Year', 'Month', 'Day'), sep = '/')\n",
        "df <- df %>% filter(!c(Year == '20' & Month %in% c('01', '02')))\n",
        "addmargins(table(df$Month))\n",
        "\n",
        "## Encoding on Tissu.Type\n",
        "df$Var49 <- factor(df$Var49)\n",
        "\n",
        "## CTQ 정리\n",
        "df <- df[ , -c(31:33)] # Not the Target\n",
        "\n",
        "## Target\n",
        "df$Y3 <- apply(df[ , 29:30], 1, mean)\n",
        "df <- df[ , -c(29:30)]\n",
        "\n",
        "\n",
        "## Removing outliers\n",
        "### CTQs\n",
        "df <- df %>% filter(Y3 > -2.0, Y3 < -0.1)\n",
        "df <- df %>% filter(Y1 > 0.0160, Y1 < 0.210)\n",
        "\n",
        "### React.Time\n",
        "df <- df %>% filter(Var11 > 10, Var11 < 50)\n",
        "\n",
        "### React.Temp\n",
        "df <- df %>% filter(Var12 > 50, Var12 < 150)\n",
        "\n",
        "### Line Speed\n",
        "df <- df %>% filter(Var24 > 3.0)\n",
        "\n",
        "### Upper and Lower Dryer Temp\n",
        "df <- df %>% filter(Var25 > 45 & Var25 < 70)\n",
        "df <- df %>% filter(Var26 > 45 & Var26 < 70)\n",
        "\n",
        "### Pressure2\n",
        "df <- df %>% filter(Var28 >= 0 & Var28 < 10)\n",
        "\n",
        "### Pressure3\n",
        "df <- df %>% filter(Var29 >= 0 & Var29 < 10)\n",
        "\n",
        "### Pressure4\n",
        "df <- df %>% filter(Var30 >= 0 & Var30 < 30)\n",
        "\n",
        "### Pressure5\n",
        "df <- df %>% filter(Var31 > 0)\n",
        "\n",
        "### Pressure6\n",
        "df <- df %>% filter(Var32 > 5)\n",
        "\n",
        "### Pressure7\n",
        "df <- df %>% filter(Var33 > 10)\n",
        "\n",
        "### Pressure8\n",
        "df <- df %>% filter(Var34 > 20)\n",
        "\n",
        "### Pressure9\n",
        "df <- df %>% filter(Var35 > 10)\n",
        "\n",
        "### Pressure10\n",
        "df <- df %>% filter(Var36 > 10)\n",
        "\n",
        "### Pressure11\n",
        "df <- df %>% filter(Var37 > 5 & Var37 < 40)\n",
        "\n",
        "### Blower\n",
        "df <- df %>% filter(Var18 < 12)\n",
        "\n",
        "### Viscosity\n",
        "df <- df %>% filter(Var9 >= 20000 & Var9 <= 50000)\n",
        "\n",
        "# Feature Engineering\n",
        "## Pressure slope on Dryers\n",
        "df <- df %>% mutate(P1 = Var32 - Var30,\n",
        "                    P2 = Var34 - Var32,\n",
        "                    P3 = Var34 - Var37)\n",
        "\n",
        "## Arranging dataset\n",
        "colnames(df)\n",
        "df <- df[ , c(1:27, 29, 31:33, 28, 30)]\n",
        "colnames(df)\n",
        "\n",
        "\n",
        "# Secondary Preprocessing\n",
        "## Encoding : Y3(Target)\n",
        "df$Y3 <- case_when(df$Y3 < -1.00 ~ 'Bad',\n",
        "                   df$Y3 < -0.70 ~ 'Normal',\n",
        "                   df$Y3 < 0.00 ~ 'Good',\n",
        "                   TRUE ~ 'NA')\n",
        "\n",
        "df$Y3 <- factor(df$Y3,\n",
        "                levels = c('Normal', 'Good', 'Bad'),\n",
        "                labels = c('Normal', 'Good', 'Bad'))\n",
        "\n",
        "### Encoding : Var49\n",
        "addmargins(table(df$Var49))\n",
        "df$Var49 <- as.numeric(df$Var49)\n",
        "addmargins(table(df$Var49))\n",
        "table(is.na(df))\n",
        "df <- na.omit(df)            \n",
        "\n",
        "\n",
        "## Splitting the dataset into train and test set\n",
        "set.seed(1975)\n",
        "index <- sample(1:nrow(df), nrow(df)*0.70, replace = F)\n",
        "train <- df[index, ]\n",
        "test <- df[-index, ]\n",
        "train.origin <- train\n",
        "test.origin <- test\n",
        "\n",
        "## Feature Selection\n",
        "train <- train[ , -c(1:4, 13:14)]\n",
        "test <- test[ , -c(1:4, 13:14)]\n",
        "colnames(train)\n",
        "\n",
        "## Handling with Imbalanced Classes with Replacement Sampling\n",
        "## Oversampling over minority classes\n",
        "minor_bad <- train %>% filter(Y3 == 'Bad')\n",
        "minor_bad <- as.data.frame(lapply(minor_bad, rep, 10))\n",
        "minor_norm <- train %>% filter(Y3 == 'Normal')\n",
        "minor_norm <- as.data.frame(lapply(minor_norm, rep, 2))\n",
        "train <- rbind(train, minor_bad, minor_norm)\n",
        "\n",
        "\n",
        "minor_bad2 <- test %>% filter(Y3 == 'Bad')\n",
        "minor_bad2 <- as.data.frame(lapply(minor_bad2, rep, 10))\n",
        "minor_norm2 <- test %>% filter(Y3 == 'Normal')\n",
        "minor_norm2 <- as.data.frame(lapply(minor_norm2, rep, 2))\n",
        "test <- rbind(test, minor_bad2, minor_norm2)\n",
        "\n",
        "\n",
        "## Scaling Features\n",
        "center = apply(train[ , 1:25], 2, mean)\n",
        "scale = apply(train[ , 1:25], 2, sd)\n",
        "train[ , -c(26:27)] <- scale(train[ , -c(26:27)], center = center, scale = scale)\n",
        "test[ , -c(26:27)] <- scale(test[ , -c(26:27)], center = center, scale = scale)\n",
        "head(train, 3)\n",
        "head(test, 3)\n",
        "dim(train)\n",
        "dim(test)"
      ],
      "execution_count": 5,
      "outputs": [
        {
          "output_type": "stream",
          "text": [
            "Installing packages into ‘/usr/local/lib/R/site-library’\n",
            "(as ‘lib’ is unspecified)\n",
            "\n",
            "Loading required package: tidyverse\n",
            "\n",
            "Warning message in system(\"timedatectl\", intern = TRUE):\n",
            "“running command 'timedatectl' had status 1”\n",
            "── \u001b[1mAttaching packages\u001b[22m ─────────────────────────────────────── tidyverse 1.3.1 ──\n",
            "\n",
            "\u001b[32m✔\u001b[39m \u001b[34mggplot2\u001b[39m 3.3.5     \u001b[32m✔\u001b[39m \u001b[34mpurrr  \u001b[39m 0.3.4\n",
            "\u001b[32m✔\u001b[39m \u001b[34mtibble \u001b[39m 3.1.2     \u001b[32m✔\u001b[39m \u001b[34mdplyr  \u001b[39m 1.0.7\n",
            "\u001b[32m✔\u001b[39m \u001b[34mtidyr  \u001b[39m 1.1.3     \u001b[32m✔\u001b[39m \u001b[34mstringr\u001b[39m 1.4.0\n",
            "\u001b[32m✔\u001b[39m \u001b[34mreadr  \u001b[39m 1.4.0     \u001b[32m✔\u001b[39m \u001b[34mforcats\u001b[39m 0.5.1\n",
            "\n",
            "── \u001b[1mConflicts\u001b[22m ────────────────────────────────────────── tidyverse_conflicts() ──\n",
            "\u001b[31m✖\u001b[39m \u001b[34mdplyr\u001b[39m::\u001b[32mfilter()\u001b[39m masks \u001b[34mstats\u001b[39m::filter()\n",
            "\u001b[31m✖\u001b[39m \u001b[34mdplyr\u001b[39m::\u001b[32mlag()\u001b[39m    masks \u001b[34mstats\u001b[39m::lag()\n",
            "\n",
            "Loading required package: caret\n",
            "\n",
            "Loading required package: lattice\n",
            "\n",
            "\n",
            "Attaching package: ‘caret’\n",
            "\n",
            "\n",
            "The following object is masked from ‘package:purrr’:\n",
            "\n",
            "    lift\n",
            "\n",
            "\n",
            "Loading required package: see\n",
            "\n",
            "Registered S3 methods overwritten by 'parameters':\n",
            "  method                           from      \n",
            "  as.double.parameters_kurtosis    datawizard\n",
            "  as.double.parameters_skewness    datawizard\n",
            "  as.double.parameters_smoothness  datawizard\n",
            "  as.numeric.parameters_kurtosis   datawizard\n",
            "  as.numeric.parameters_skewness   datawizard\n",
            "  as.numeric.parameters_smoothness datawizard\n",
            "  print.parameters_distribution    datawizard\n",
            "  print.parameters_kurtosis        datawizard\n",
            "  print.parameters_skewness        datawizard\n",
            "  summary.parameters_kurtosis      datawizard\n",
            "  summary.parameters_skewness      datawizard\n",
            "\n",
            "Loading required package: DT\n",
            "\n",
            "All packages loaded successfully\n",
            "\n"
          ],
          "name": "stderr"
        },
        {
          "output_type": "stream",
          "text": [
            "'data.frame':\t864 obs. of  65 variables:\n",
            " $ Var1 : chr  \"P2\" \"P2\" \"P2\" \"P2\" ...\n",
            " $ Var2 : chr  \"P2\" \"P2\" \"P2\" \"P2\" ...\n",
            " $ Var3 : chr  \"P21\" \"P21\" \"P21\" \"P21\" ...\n",
            " $ Var4 : chr  \"P21\" \"P21\" \"P21\" \"P21\" ...\n",
            " $ Var5 : chr  \"P2D01\" \"P2D01\" \"P2D01\" \"P2D01\" ...\n",
            " $ Var6 : chr  \"P2D01\" \"P2D01\" \"P2D01\" \"P2D01\" ...\n",
            " $ Var7 : chr  \"P2D20205001\" \"P2D20205002\" \"P2D20205003\" \"P2D20206001\" ...\n",
            " $ Var8 : chr  \"20/02/05 수요일\" \"20/02/05 수요일\" \"20/02/05 수요일\" \"20/02/06 목요일\" ...\n",
            " $ Var9 : int  32600 32600 32600 32600 32600 38000 33500 33500 31000 33500 ...\n",
            " $ Var10: num  118 118 118 118 118 93.5 115 115 129 115 ...\n",
            " $ Var11: int  25 25 25 25 25 27 26 26 23 26 ...\n",
            " $ Var12: num  118 118 118 118 118 93.5 115 115 129 115 ...\n",
            " $ Var13: int  70 80 80 50 50 50 60 60 60 60 ...\n",
            " $ Var14: int  36 36 36 36 36 36 36 36 36 36 ...\n",
            " $ Var15: int  1200 1200 1200 1200 1200 1200 1200 1200 1200 1200 ...\n",
            " $ Var16: num  107 107 107 107 107 107 107 107 107 107 ...\n",
            " $ Var17: num  20.1 19.8 19.8 20 19.5 19.5 19.5 19.5 19.5 19.5 ...\n",
            " $ Var18: num  9.8 9.7 9.5 9.5 9.5 9.5 9.5 9.5 9.5 9.5 ...\n",
            " $ Var19: int  3 3 3 3 3 3 3 3 3 3 ...\n",
            " $ Var20: int  3 3 3 3 3 3 3 3 3 3 ...\n",
            " $ Var21: num  16.4 17 17 16 16.4 ...\n",
            " $ Var22: num  8.9 7.8 8 8.3 7.8 8.6 8.4 8.4 8.8 8.7 ...\n",
            " $ Var23: num  0.2 0.9 1 -0.75 -0.3 -0.4 -0.7 -0.2 1.6 1.2 ...\n",
            " $ Var24: num  14.5 14.5 14.5 14.6 15.2 ...\n",
            " $ Var25: num  63 61 62 64.8 64 ...\n",
            " $ Var26: num  63 61 63 63.7 65 ...\n",
            " $ Var27: int  0 0 0 0 0 0 0 0 0 0 ...\n",
            " $ Var28: int  0 0 0 0 0 0 0 0 0 0 ...\n",
            " $ Var29: int  1 0 0 0 4 0 2 2 3 3 ...\n",
            " $ Var30: int  20 15 17 0 32 17 21 23 25 25 ...\n",
            " $ Var31: int  23 19 21 0 27 20 24 26 28 26 ...\n",
            " $ Var32: int  49 51 51 0 42 46 47 48 48 48 ...\n",
            " $ Var33: int  58 58 57 0 56 55 57 60 58 58 ...\n",
            " $ Var34: int  58 60 61 -1 54 57 56 58 58 58 ...\n",
            " $ Var35: int  37 38 39 0 33 35 36 37 36 37 ...\n",
            " $ Var36: int  38 38 40 0 31 34 34 35 35 35 ...\n",
            " $ Var37: int  42 44 46 0 33 36 37 39 39 39 ...\n",
            " $ Y1   : num  0.0188 0.0188 0.019 0.0187 0.019 0.0191 0.0192 0.0188 0.0188 0.0189 ...\n",
            " $ Y21  : num  166 171 177 164 172 ...\n",
            " $ Y22  : num  170 177 194 167 174 ...\n",
            " $ Y23  : num  168 154 191 146 148 ...\n",
            " $ Var38: num  35.4 37.3 35.8 35.8 36.6 ...\n",
            " $ Var39: num  36 36.3 36 36.1 36.3 ...\n",
            " $ Var40: num  35.3 37.1 36.5 36.6 35.5 ...\n",
            " $ Y31  : int  0 0 0 0 0 0 0 0 0 0 ...\n",
            " $ Y32  : num  -0.63 -0.5 -0.53 -1.06 -0.95 -1.19 -0.58 -0.91 -0.75 -0.98 ...\n",
            " $ Y33  : num  -0.74 -0.61 -0.66 -0.92 -0.87 -1.08 -0.75 -1.01 -0.96 -1.05 ...\n",
            " $ Y41  : num  331 174 3243 322 254 ...\n",
            " $ Y42  : num  338 194 274 321 284 ...\n",
            " $ Y43  : num  370 162 250 338 333 ...\n",
            " $ Y51  : num  470 246 382 450 430 ...\n",
            " $ Y52  : num  428 133 319 535 423 ...\n",
            " $ Y53  : num  426 246 370 547 421 ...\n",
            " $ Var41: num  5.5 4.7 4.7 7 6.1 8.6 4.9 7.6 6.5 6.3 ...\n",
            " $ Var42: chr  \"P2E01\" \"P2E04\" \"P2E06\" \"P2E11\" ...\n",
            " $ Var43: chr  \"P2E01\" \"P2E04\" \"P2E06\" \"P2E11\" ...\n",
            " $ Var44: num  99.4 99.8 99.1 99.8 98.9 ...\n",
            " $ Var45: num  99.9 99.8 99.7 99.9 99.4 ...\n",
            " $ Var46: num  85.1 87 86.7 86.2 82 ...\n",
            " $ Var47: num  88 90.9 89.4 88.2 86.6 ...\n",
            " $ Var48: num  13.3 14.6 12.8 10.9 14.2 ...\n",
            " $ Var49: chr  \"J\" \"J\" \"J\" \"J\" ...\n",
            " $ Var50: chr  \"PG\" \"PG\" \"PG\" \"PG\" ...\n",
            " $ Var51: chr  \"AP\" \"AP\" \"AP\" \"AP\" ...\n",
            " $ Var52: int  4000 4000 3600 2650 3600 4000 2790 2710 2640 2630 ...\n"
          ],
          "name": "stdout"
        },
        {
          "output_type": "display_data",
          "data": {
            "text/plain": [
              " [1] \"Var7\"  \"Var8\"  \"Var9\"  \"Var11\" \"Var12\" \"Var13\" \"Var16\" \"Var17\" \"Var18\"\n",
              "[10] \"Var19\" \"Var20\" \"Var21\" \"Var22\" \"Var23\" \"Var24\" \"Var25\" \"Var26\" \"Var27\"\n",
              "[19] \"Var28\" \"Var29\" \"Var30\" \"Var31\" \"Var32\" \"Var33\" \"Var34\" \"Var35\" \"Var36\"\n",
              "[28] \"Var37\" \"Y1\"    \"Y32\"   \"Y33\"   \"Y41\"   \"Y42\"   \"Y43\"   \"Var49\" \"Var52\""
            ],
            "text/latex": "\\begin{enumerate*}\n\\item 'Var7'\n\\item 'Var8'\n\\item 'Var9'\n\\item 'Var11'\n\\item 'Var12'\n\\item 'Var13'\n\\item 'Var16'\n\\item 'Var17'\n\\item 'Var18'\n\\item 'Var19'\n\\item 'Var20'\n\\item 'Var21'\n\\item 'Var22'\n\\item 'Var23'\n\\item 'Var24'\n\\item 'Var25'\n\\item 'Var26'\n\\item 'Var27'\n\\item 'Var28'\n\\item 'Var29'\n\\item 'Var30'\n\\item 'Var31'\n\\item 'Var32'\n\\item 'Var33'\n\\item 'Var34'\n\\item 'Var35'\n\\item 'Var36'\n\\item 'Var37'\n\\item 'Y1'\n\\item 'Y32'\n\\item 'Y33'\n\\item 'Y41'\n\\item 'Y42'\n\\item 'Y43'\n\\item 'Var49'\n\\item 'Var52'\n\\end{enumerate*}\n",
            "text/markdown": "1. 'Var7'\n2. 'Var8'\n3. 'Var9'\n4. 'Var11'\n5. 'Var12'\n6. 'Var13'\n7. 'Var16'\n8. 'Var17'\n9. 'Var18'\n10. 'Var19'\n11. 'Var20'\n12. 'Var21'\n13. 'Var22'\n14. 'Var23'\n15. 'Var24'\n16. 'Var25'\n17. 'Var26'\n18. 'Var27'\n19. 'Var28'\n20. 'Var29'\n21. 'Var30'\n22. 'Var31'\n23. 'Var32'\n24. 'Var33'\n25. 'Var34'\n26. 'Var35'\n27. 'Var36'\n28. 'Var37'\n29. 'Y1'\n30. 'Y32'\n31. 'Y33'\n32. 'Y41'\n33. 'Y42'\n34. 'Y43'\n35. 'Var49'\n36. 'Var52'\n\n\n",
            "text/html": [
              "<style>\n",
              ".list-inline {list-style: none; margin:0; padding: 0}\n",
              ".list-inline>li {display: inline-block}\n",
              ".list-inline>li:not(:last-child)::after {content: \"\\00b7\"; padding: 0 .5ex}\n",
              "</style>\n",
              "<ol class=list-inline><li>'Var7'</li><li>'Var8'</li><li>'Var9'</li><li>'Var11'</li><li>'Var12'</li><li>'Var13'</li><li>'Var16'</li><li>'Var17'</li><li>'Var18'</li><li>'Var19'</li><li>'Var20'</li><li>'Var21'</li><li>'Var22'</li><li>'Var23'</li><li>'Var24'</li><li>'Var25'</li><li>'Var26'</li><li>'Var27'</li><li>'Var28'</li><li>'Var29'</li><li>'Var30'</li><li>'Var31'</li><li>'Var32'</li><li>'Var33'</li><li>'Var34'</li><li>'Var35'</li><li>'Var36'</li><li>'Var37'</li><li>'Y1'</li><li>'Y32'</li><li>'Y33'</li><li>'Y41'</li><li>'Y42'</li><li>'Y43'</li><li>'Var49'</li><li>'Var52'</li></ol>\n"
            ]
          },
          "metadata": {
            "tags": []
          }
        },
        {
          "output_type": "display_data",
          "data": {
            "text/plain": [
              " Var7  Var8  Var9 Var11 Var12 Var13 Var16 Var17 Var18 Var19 Var20 Var21 Var22 \n",
              "    0     0     0     0     0     0    75    75    75    75    75    75    75 \n",
              "Var23 Var24 Var25 Var26 Var27 Var28 Var29 Var30 Var31 Var32 Var33 Var34 Var35 \n",
              "   75    75    75    75     0     0     0     0     0     0     0     0     0 \n",
              "Var36 Var37    Y1   Y32   Y33   Y41   Y42   Y43 Var49 Var52 \n",
              "    0     0     0     0     0     0     0     0     0     0 "
            ],
            "text/latex": "\\begin{description*}\n\\item[Var7] 0\n\\item[Var8] 0\n\\item[Var9] 0\n\\item[Var11] 0\n\\item[Var12] 0\n\\item[Var13] 0\n\\item[Var16] 75\n\\item[Var17] 75\n\\item[Var18] 75\n\\item[Var19] 75\n\\item[Var20] 75\n\\item[Var21] 75\n\\item[Var22] 75\n\\item[Var23] 75\n\\item[Var24] 75\n\\item[Var25] 75\n\\item[Var26] 75\n\\item[Var27] 0\n\\item[Var28] 0\n\\item[Var29] 0\n\\item[Var30] 0\n\\item[Var31] 0\n\\item[Var32] 0\n\\item[Var33] 0\n\\item[Var34] 0\n\\item[Var35] 0\n\\item[Var36] 0\n\\item[Var37] 0\n\\item[Y1] 0\n\\item[Y32] 0\n\\item[Y33] 0\n\\item[Y41] 0\n\\item[Y42] 0\n\\item[Y43] 0\n\\item[Var49] 0\n\\item[Var52] 0\n\\end{description*}\n",
            "text/markdown": "Var7\n:   0Var8\n:   0Var9\n:   0Var11\n:   0Var12\n:   0Var13\n:   0Var16\n:   75Var17\n:   75Var18\n:   75Var19\n:   75Var20\n:   75Var21\n:   75Var22\n:   75Var23\n:   75Var24\n:   75Var25\n:   75Var26\n:   75Var27\n:   0Var28\n:   0Var29\n:   0Var30\n:   0Var31\n:   0Var32\n:   0Var33\n:   0Var34\n:   0Var35\n:   0Var36\n:   0Var37\n:   0Y1\n:   0Y32\n:   0Y33\n:   0Y41\n:   0Y42\n:   0Y43\n:   0Var49\n:   0Var52\n:   0\n\n",
            "text/html": [
              "<style>\n",
              ".dl-inline {width: auto; margin:0; padding: 0}\n",
              ".dl-inline>dt, .dl-inline>dd {float: none; width: auto; display: inline-block}\n",
              ".dl-inline>dt::after {content: \":\\0020\"; padding-right: .5ex}\n",
              ".dl-inline>dt:not(:first-of-type) {padding-left: .5ex}\n",
              "</style><dl class=dl-inline><dt>Var7</dt><dd>0</dd><dt>Var8</dt><dd>0</dd><dt>Var9</dt><dd>0</dd><dt>Var11</dt><dd>0</dd><dt>Var12</dt><dd>0</dd><dt>Var13</dt><dd>0</dd><dt>Var16</dt><dd>75</dd><dt>Var17</dt><dd>75</dd><dt>Var18</dt><dd>75</dd><dt>Var19</dt><dd>75</dd><dt>Var20</dt><dd>75</dd><dt>Var21</dt><dd>75</dd><dt>Var22</dt><dd>75</dd><dt>Var23</dt><dd>75</dd><dt>Var24</dt><dd>75</dd><dt>Var25</dt><dd>75</dd><dt>Var26</dt><dd>75</dd><dt>Var27</dt><dd>0</dd><dt>Var28</dt><dd>0</dd><dt>Var29</dt><dd>0</dd><dt>Var30</dt><dd>0</dd><dt>Var31</dt><dd>0</dd><dt>Var32</dt><dd>0</dd><dt>Var33</dt><dd>0</dd><dt>Var34</dt><dd>0</dd><dt>Var35</dt><dd>0</dd><dt>Var36</dt><dd>0</dd><dt>Var37</dt><dd>0</dd><dt>Y1</dt><dd>0</dd><dt>Y32</dt><dd>0</dd><dt>Y33</dt><dd>0</dd><dt>Y41</dt><dd>0</dd><dt>Y42</dt><dd>0</dd><dt>Y43</dt><dd>0</dd><dt>Var49</dt><dd>0</dd><dt>Var52</dt><dd>0</dd></dl>\n"
            ]
          },
          "metadata": {
            "tags": []
          }
        },
        {
          "output_type": "display_data",
          "data": {
            "text/plain": [
              "      freqRatio percentUnique zeroVar nzv  \n",
              "Var7  1.000000  100.0000000   FALSE   FALSE\n",
              "Var8  1.000000   32.4461343   FALSE   FALSE\n",
              "Var9  1.400000   16.6032953   FALSE   FALSE\n",
              "Var11 1.012658    3.4220532   FALSE   FALSE\n",
              "Var12 1.346154   14.4486692   FALSE   FALSE\n",
              "Var13 1.109756    4.0557668   FALSE   FALSE\n",
              "Var16 3.537879    0.8871990   FALSE   FALSE\n",
              "Var17 1.061947    3.1685678   FALSE   FALSE\n",
              "Var18 2.119403    2.6615970   FALSE   FALSE\n",
              "Var19 0.000000    0.1267427    TRUE    TRUE\n",
              "Var20 0.000000    0.1267427    TRUE    TRUE\n",
              "Var21 1.137931    6.9708492   FALSE   FALSE\n",
              "Var22 1.139535    6.7173638   FALSE   FALSE\n",
              "Var23 1.031250    8.7452471   FALSE   FALSE\n",
              "Var24 1.000000   75.5386565   FALSE   FALSE\n",
              "Var25 1.184211   61.2167300   FALSE   FALSE\n",
              "Var26 1.068966   62.4841572   FALSE   FALSE\n",
              "Var27 9.450704    1.5209125   FALSE   FALSE\n",
              "Var28 5.712766    2.6615970   FALSE   FALSE\n",
              "Var29 6.623377    2.7883397   FALSE   FALSE\n",
              "Var30 1.050847    5.7034221   FALSE   FALSE\n",
              "Var31 1.194444    4.1825095   FALSE   FALSE\n",
              "Var32 1.048780    5.5766793   FALSE   FALSE\n",
              "Var33 1.069767    5.9569075   FALSE   FALSE\n",
              "Var34 1.239130    5.4499366   FALSE   FALSE\n",
              "Var35 1.015152    4.1825095   FALSE   FALSE\n",
              "Var36 1.040816    4.5627376   FALSE   FALSE\n",
              "Var37 1.250000    5.9569075   FALSE   FALSE\n",
              "Y1    1.075630    3.2953105   FALSE   FALSE\n",
              "Y32   1.120000   10.2661597   FALSE   FALSE\n",
              "Y33   1.000000   12.8010139   FALSE   FALSE\n",
              "Y41   5.000000   89.1001267   FALSE   FALSE\n",
              "Y42   3.750000   90.1140684   FALSE   FALSE\n",
              "Y43   4.250000   89.1001267   FALSE   FALSE\n",
              "Var49 3.934641    0.5069708   FALSE   FALSE"
            ],
            "text/latex": "A data.frame: 35 × 4\n\\begin{tabular}{r|llll}\n  & freqRatio & percentUnique & zeroVar & nzv\\\\\n  & <dbl> & <dbl> & <lgl> & <lgl>\\\\\n\\hline\n\tVar7 & 1.000000 & 100.0000000 & FALSE & FALSE\\\\\n\tVar8 & 1.000000 &  32.4461343 & FALSE & FALSE\\\\\n\tVar9 & 1.400000 &  16.6032953 & FALSE & FALSE\\\\\n\tVar11 & 1.012658 &   3.4220532 & FALSE & FALSE\\\\\n\tVar12 & 1.346154 &  14.4486692 & FALSE & FALSE\\\\\n\tVar13 & 1.109756 &   4.0557668 & FALSE & FALSE\\\\\n\tVar16 & 3.537879 &   0.8871990 & FALSE & FALSE\\\\\n\tVar17 & 1.061947 &   3.1685678 & FALSE & FALSE\\\\\n\tVar18 & 2.119403 &   2.6615970 & FALSE & FALSE\\\\\n\tVar19 & 0.000000 &   0.1267427 &  TRUE &  TRUE\\\\\n\tVar20 & 0.000000 &   0.1267427 &  TRUE &  TRUE\\\\\n\tVar21 & 1.137931 &   6.9708492 & FALSE & FALSE\\\\\n\tVar22 & 1.139535 &   6.7173638 & FALSE & FALSE\\\\\n\tVar23 & 1.031250 &   8.7452471 & FALSE & FALSE\\\\\n\tVar24 & 1.000000 &  75.5386565 & FALSE & FALSE\\\\\n\tVar25 & 1.184211 &  61.2167300 & FALSE & FALSE\\\\\n\tVar26 & 1.068966 &  62.4841572 & FALSE & FALSE\\\\\n\tVar27 & 9.450704 &   1.5209125 & FALSE & FALSE\\\\\n\tVar28 & 5.712766 &   2.6615970 & FALSE & FALSE\\\\\n\tVar29 & 6.623377 &   2.7883397 & FALSE & FALSE\\\\\n\tVar30 & 1.050847 &   5.7034221 & FALSE & FALSE\\\\\n\tVar31 & 1.194444 &   4.1825095 & FALSE & FALSE\\\\\n\tVar32 & 1.048780 &   5.5766793 & FALSE & FALSE\\\\\n\tVar33 & 1.069767 &   5.9569075 & FALSE & FALSE\\\\\n\tVar34 & 1.239130 &   5.4499366 & FALSE & FALSE\\\\\n\tVar35 & 1.015152 &   4.1825095 & FALSE & FALSE\\\\\n\tVar36 & 1.040816 &   4.5627376 & FALSE & FALSE\\\\\n\tVar37 & 1.250000 &   5.9569075 & FALSE & FALSE\\\\\n\tY1 & 1.075630 &   3.2953105 & FALSE & FALSE\\\\\n\tY32 & 1.120000 &  10.2661597 & FALSE & FALSE\\\\\n\tY33 & 1.000000 &  12.8010139 & FALSE & FALSE\\\\\n\tY41 & 5.000000 &  89.1001267 & FALSE & FALSE\\\\\n\tY42 & 3.750000 &  90.1140684 & FALSE & FALSE\\\\\n\tY43 & 4.250000 &  89.1001267 & FALSE & FALSE\\\\\n\tVar49 & 3.934641 &   0.5069708 & FALSE & FALSE\\\\\n\\end{tabular}\n",
            "text/markdown": "\nA data.frame: 35 × 4\n\n| <!--/--> | freqRatio &lt;dbl&gt; | percentUnique &lt;dbl&gt; | zeroVar &lt;lgl&gt; | nzv &lt;lgl&gt; |\n|---|---|---|---|---|\n| Var7 | 1.000000 | 100.0000000 | FALSE | FALSE |\n| Var8 | 1.000000 |  32.4461343 | FALSE | FALSE |\n| Var9 | 1.400000 |  16.6032953 | FALSE | FALSE |\n| Var11 | 1.012658 |   3.4220532 | FALSE | FALSE |\n| Var12 | 1.346154 |  14.4486692 | FALSE | FALSE |\n| Var13 | 1.109756 |   4.0557668 | FALSE | FALSE |\n| Var16 | 3.537879 |   0.8871990 | FALSE | FALSE |\n| Var17 | 1.061947 |   3.1685678 | FALSE | FALSE |\n| Var18 | 2.119403 |   2.6615970 | FALSE | FALSE |\n| Var19 | 0.000000 |   0.1267427 |  TRUE |  TRUE |\n| Var20 | 0.000000 |   0.1267427 |  TRUE |  TRUE |\n| Var21 | 1.137931 |   6.9708492 | FALSE | FALSE |\n| Var22 | 1.139535 |   6.7173638 | FALSE | FALSE |\n| Var23 | 1.031250 |   8.7452471 | FALSE | FALSE |\n| Var24 | 1.000000 |  75.5386565 | FALSE | FALSE |\n| Var25 | 1.184211 |  61.2167300 | FALSE | FALSE |\n| Var26 | 1.068966 |  62.4841572 | FALSE | FALSE |\n| Var27 | 9.450704 |   1.5209125 | FALSE | FALSE |\n| Var28 | 5.712766 |   2.6615970 | FALSE | FALSE |\n| Var29 | 6.623377 |   2.7883397 | FALSE | FALSE |\n| Var30 | 1.050847 |   5.7034221 | FALSE | FALSE |\n| Var31 | 1.194444 |   4.1825095 | FALSE | FALSE |\n| Var32 | 1.048780 |   5.5766793 | FALSE | FALSE |\n| Var33 | 1.069767 |   5.9569075 | FALSE | FALSE |\n| Var34 | 1.239130 |   5.4499366 | FALSE | FALSE |\n| Var35 | 1.015152 |   4.1825095 | FALSE | FALSE |\n| Var36 | 1.040816 |   4.5627376 | FALSE | FALSE |\n| Var37 | 1.250000 |   5.9569075 | FALSE | FALSE |\n| Y1 | 1.075630 |   3.2953105 | FALSE | FALSE |\n| Y32 | 1.120000 |  10.2661597 | FALSE | FALSE |\n| Y33 | 1.000000 |  12.8010139 | FALSE | FALSE |\n| Y41 | 5.000000 |  89.1001267 | FALSE | FALSE |\n| Y42 | 3.750000 |  90.1140684 | FALSE | FALSE |\n| Y43 | 4.250000 |  89.1001267 | FALSE | FALSE |\n| Var49 | 3.934641 |   0.5069708 | FALSE | FALSE |\n\n",
            "text/html": [
              "<table class=\"dataframe\">\n",
              "<caption>A data.frame: 35 × 4</caption>\n",
              "<thead>\n",
              "\t<tr><th></th><th scope=col>freqRatio</th><th scope=col>percentUnique</th><th scope=col>zeroVar</th><th scope=col>nzv</th></tr>\n",
              "\t<tr><th></th><th scope=col>&lt;dbl&gt;</th><th scope=col>&lt;dbl&gt;</th><th scope=col>&lt;lgl&gt;</th><th scope=col>&lt;lgl&gt;</th></tr>\n",
              "</thead>\n",
              "<tbody>\n",
              "\t<tr><th scope=row>Var7</th><td>1.000000</td><td>100.0000000</td><td>FALSE</td><td>FALSE</td></tr>\n",
              "\t<tr><th scope=row>Var8</th><td>1.000000</td><td> 32.4461343</td><td>FALSE</td><td>FALSE</td></tr>\n",
              "\t<tr><th scope=row>Var9</th><td>1.400000</td><td> 16.6032953</td><td>FALSE</td><td>FALSE</td></tr>\n",
              "\t<tr><th scope=row>Var11</th><td>1.012658</td><td>  3.4220532</td><td>FALSE</td><td>FALSE</td></tr>\n",
              "\t<tr><th scope=row>Var12</th><td>1.346154</td><td> 14.4486692</td><td>FALSE</td><td>FALSE</td></tr>\n",
              "\t<tr><th scope=row>Var13</th><td>1.109756</td><td>  4.0557668</td><td>FALSE</td><td>FALSE</td></tr>\n",
              "\t<tr><th scope=row>Var16</th><td>3.537879</td><td>  0.8871990</td><td>FALSE</td><td>FALSE</td></tr>\n",
              "\t<tr><th scope=row>Var17</th><td>1.061947</td><td>  3.1685678</td><td>FALSE</td><td>FALSE</td></tr>\n",
              "\t<tr><th scope=row>Var18</th><td>2.119403</td><td>  2.6615970</td><td>FALSE</td><td>FALSE</td></tr>\n",
              "\t<tr><th scope=row>Var19</th><td>0.000000</td><td>  0.1267427</td><td> TRUE</td><td> TRUE</td></tr>\n",
              "\t<tr><th scope=row>Var20</th><td>0.000000</td><td>  0.1267427</td><td> TRUE</td><td> TRUE</td></tr>\n",
              "\t<tr><th scope=row>Var21</th><td>1.137931</td><td>  6.9708492</td><td>FALSE</td><td>FALSE</td></tr>\n",
              "\t<tr><th scope=row>Var22</th><td>1.139535</td><td>  6.7173638</td><td>FALSE</td><td>FALSE</td></tr>\n",
              "\t<tr><th scope=row>Var23</th><td>1.031250</td><td>  8.7452471</td><td>FALSE</td><td>FALSE</td></tr>\n",
              "\t<tr><th scope=row>Var24</th><td>1.000000</td><td> 75.5386565</td><td>FALSE</td><td>FALSE</td></tr>\n",
              "\t<tr><th scope=row>Var25</th><td>1.184211</td><td> 61.2167300</td><td>FALSE</td><td>FALSE</td></tr>\n",
              "\t<tr><th scope=row>Var26</th><td>1.068966</td><td> 62.4841572</td><td>FALSE</td><td>FALSE</td></tr>\n",
              "\t<tr><th scope=row>Var27</th><td>9.450704</td><td>  1.5209125</td><td>FALSE</td><td>FALSE</td></tr>\n",
              "\t<tr><th scope=row>Var28</th><td>5.712766</td><td>  2.6615970</td><td>FALSE</td><td>FALSE</td></tr>\n",
              "\t<tr><th scope=row>Var29</th><td>6.623377</td><td>  2.7883397</td><td>FALSE</td><td>FALSE</td></tr>\n",
              "\t<tr><th scope=row>Var30</th><td>1.050847</td><td>  5.7034221</td><td>FALSE</td><td>FALSE</td></tr>\n",
              "\t<tr><th scope=row>Var31</th><td>1.194444</td><td>  4.1825095</td><td>FALSE</td><td>FALSE</td></tr>\n",
              "\t<tr><th scope=row>Var32</th><td>1.048780</td><td>  5.5766793</td><td>FALSE</td><td>FALSE</td></tr>\n",
              "\t<tr><th scope=row>Var33</th><td>1.069767</td><td>  5.9569075</td><td>FALSE</td><td>FALSE</td></tr>\n",
              "\t<tr><th scope=row>Var34</th><td>1.239130</td><td>  5.4499366</td><td>FALSE</td><td>FALSE</td></tr>\n",
              "\t<tr><th scope=row>Var35</th><td>1.015152</td><td>  4.1825095</td><td>FALSE</td><td>FALSE</td></tr>\n",
              "\t<tr><th scope=row>Var36</th><td>1.040816</td><td>  4.5627376</td><td>FALSE</td><td>FALSE</td></tr>\n",
              "\t<tr><th scope=row>Var37</th><td>1.250000</td><td>  5.9569075</td><td>FALSE</td><td>FALSE</td></tr>\n",
              "\t<tr><th scope=row>Y1</th><td>1.075630</td><td>  3.2953105</td><td>FALSE</td><td>FALSE</td></tr>\n",
              "\t<tr><th scope=row>Y32</th><td>1.120000</td><td> 10.2661597</td><td>FALSE</td><td>FALSE</td></tr>\n",
              "\t<tr><th scope=row>Y33</th><td>1.000000</td><td> 12.8010139</td><td>FALSE</td><td>FALSE</td></tr>\n",
              "\t<tr><th scope=row>Y41</th><td>5.000000</td><td> 89.1001267</td><td>FALSE</td><td>FALSE</td></tr>\n",
              "\t<tr><th scope=row>Y42</th><td>3.750000</td><td> 90.1140684</td><td>FALSE</td><td>FALSE</td></tr>\n",
              "\t<tr><th scope=row>Y43</th><td>4.250000</td><td> 89.1001267</td><td>FALSE</td><td>FALSE</td></tr>\n",
              "\t<tr><th scope=row>Var49</th><td>3.934641</td><td>  0.5069708</td><td>FALSE</td><td>FALSE</td></tr>\n",
              "</tbody>\n",
              "</table>\n"
            ]
          },
          "metadata": {
            "tags": []
          }
        },
        {
          "output_type": "display_data",
          "data": {
            "text/plain": [
              "\n",
              " 03  04  05  06  07  08  09  10  11  12 Sum \n",
              " 83 128 102  83  72  48  61  63  59   9 708 "
            ]
          },
          "metadata": {
            "tags": []
          }
        },
        {
          "output_type": "display_data",
          "data": {
            "text/plain": [
              " [1] \"Var7\"  \"Year\"  \"Month\" \"Day\"   \"Var9\"  \"Var11\" \"Var12\" \"Var13\" \"Var16\"\n",
              "[10] \"Var17\" \"Var18\" \"Var21\" \"Var22\" \"Var23\" \"Var24\" \"Var25\" \"Var26\" \"Var28\"\n",
              "[19] \"Var29\" \"Var30\" \"Var31\" \"Var32\" \"Var33\" \"Var34\" \"Var35\" \"Var36\" \"Var37\"\n",
              "[28] \"Y1\"    \"Var49\" \"Y3\"    \"P1\"    \"P2\"    \"P3\"   "
            ],
            "text/latex": "\\begin{enumerate*}\n\\item 'Var7'\n\\item 'Year'\n\\item 'Month'\n\\item 'Day'\n\\item 'Var9'\n\\item 'Var11'\n\\item 'Var12'\n\\item 'Var13'\n\\item 'Var16'\n\\item 'Var17'\n\\item 'Var18'\n\\item 'Var21'\n\\item 'Var22'\n\\item 'Var23'\n\\item 'Var24'\n\\item 'Var25'\n\\item 'Var26'\n\\item 'Var28'\n\\item 'Var29'\n\\item 'Var30'\n\\item 'Var31'\n\\item 'Var32'\n\\item 'Var33'\n\\item 'Var34'\n\\item 'Var35'\n\\item 'Var36'\n\\item 'Var37'\n\\item 'Y1'\n\\item 'Var49'\n\\item 'Y3'\n\\item 'P1'\n\\item 'P2'\n\\item 'P3'\n\\end{enumerate*}\n",
            "text/markdown": "1. 'Var7'\n2. 'Year'\n3. 'Month'\n4. 'Day'\n5. 'Var9'\n6. 'Var11'\n7. 'Var12'\n8. 'Var13'\n9. 'Var16'\n10. 'Var17'\n11. 'Var18'\n12. 'Var21'\n13. 'Var22'\n14. 'Var23'\n15. 'Var24'\n16. 'Var25'\n17. 'Var26'\n18. 'Var28'\n19. 'Var29'\n20. 'Var30'\n21. 'Var31'\n22. 'Var32'\n23. 'Var33'\n24. 'Var34'\n25. 'Var35'\n26. 'Var36'\n27. 'Var37'\n28. 'Y1'\n29. 'Var49'\n30. 'Y3'\n31. 'P1'\n32. 'P2'\n33. 'P3'\n\n\n",
            "text/html": [
              "<style>\n",
              ".list-inline {list-style: none; margin:0; padding: 0}\n",
              ".list-inline>li {display: inline-block}\n",
              ".list-inline>li:not(:last-child)::after {content: \"\\00b7\"; padding: 0 .5ex}\n",
              "</style>\n",
              "<ol class=list-inline><li>'Var7'</li><li>'Year'</li><li>'Month'</li><li>'Day'</li><li>'Var9'</li><li>'Var11'</li><li>'Var12'</li><li>'Var13'</li><li>'Var16'</li><li>'Var17'</li><li>'Var18'</li><li>'Var21'</li><li>'Var22'</li><li>'Var23'</li><li>'Var24'</li><li>'Var25'</li><li>'Var26'</li><li>'Var28'</li><li>'Var29'</li><li>'Var30'</li><li>'Var31'</li><li>'Var32'</li><li>'Var33'</li><li>'Var34'</li><li>'Var35'</li><li>'Var36'</li><li>'Var37'</li><li>'Y1'</li><li>'Var49'</li><li>'Y3'</li><li>'P1'</li><li>'P2'</li><li>'P3'</li></ol>\n"
            ]
          },
          "metadata": {
            "tags": []
          }
        },
        {
          "output_type": "display_data",
          "data": {
            "text/plain": [
              " [1] \"Var7\"  \"Year\"  \"Month\" \"Day\"   \"Var9\"  \"Var11\" \"Var12\" \"Var13\" \"Var16\"\n",
              "[10] \"Var17\" \"Var18\" \"Var21\" \"Var22\" \"Var23\" \"Var24\" \"Var25\" \"Var26\" \"Var28\"\n",
              "[19] \"Var29\" \"Var30\" \"Var31\" \"Var32\" \"Var33\" \"Var34\" \"Var35\" \"Var36\" \"Var37\"\n",
              "[28] \"Var49\" \"P1\"    \"P2\"    \"P3\"    \"Y1\"    \"Y3\"   "
            ],
            "text/latex": "\\begin{enumerate*}\n\\item 'Var7'\n\\item 'Year'\n\\item 'Month'\n\\item 'Day'\n\\item 'Var9'\n\\item 'Var11'\n\\item 'Var12'\n\\item 'Var13'\n\\item 'Var16'\n\\item 'Var17'\n\\item 'Var18'\n\\item 'Var21'\n\\item 'Var22'\n\\item 'Var23'\n\\item 'Var24'\n\\item 'Var25'\n\\item 'Var26'\n\\item 'Var28'\n\\item 'Var29'\n\\item 'Var30'\n\\item 'Var31'\n\\item 'Var32'\n\\item 'Var33'\n\\item 'Var34'\n\\item 'Var35'\n\\item 'Var36'\n\\item 'Var37'\n\\item 'Var49'\n\\item 'P1'\n\\item 'P2'\n\\item 'P3'\n\\item 'Y1'\n\\item 'Y3'\n\\end{enumerate*}\n",
            "text/markdown": "1. 'Var7'\n2. 'Year'\n3. 'Month'\n4. 'Day'\n5. 'Var9'\n6. 'Var11'\n7. 'Var12'\n8. 'Var13'\n9. 'Var16'\n10. 'Var17'\n11. 'Var18'\n12. 'Var21'\n13. 'Var22'\n14. 'Var23'\n15. 'Var24'\n16. 'Var25'\n17. 'Var26'\n18. 'Var28'\n19. 'Var29'\n20. 'Var30'\n21. 'Var31'\n22. 'Var32'\n23. 'Var33'\n24. 'Var34'\n25. 'Var35'\n26. 'Var36'\n27. 'Var37'\n28. 'Var49'\n29. 'P1'\n30. 'P2'\n31. 'P3'\n32. 'Y1'\n33. 'Y3'\n\n\n",
            "text/html": [
              "<style>\n",
              ".list-inline {list-style: none; margin:0; padding: 0}\n",
              ".list-inline>li {display: inline-block}\n",
              ".list-inline>li:not(:last-child)::after {content: \"\\00b7\"; padding: 0 .5ex}\n",
              "</style>\n",
              "<ol class=list-inline><li>'Var7'</li><li>'Year'</li><li>'Month'</li><li>'Day'</li><li>'Var9'</li><li>'Var11'</li><li>'Var12'</li><li>'Var13'</li><li>'Var16'</li><li>'Var17'</li><li>'Var18'</li><li>'Var21'</li><li>'Var22'</li><li>'Var23'</li><li>'Var24'</li><li>'Var25'</li><li>'Var26'</li><li>'Var28'</li><li>'Var29'</li><li>'Var30'</li><li>'Var31'</li><li>'Var32'</li><li>'Var33'</li><li>'Var34'</li><li>'Var35'</li><li>'Var36'</li><li>'Var37'</li><li>'Var49'</li><li>'P1'</li><li>'P2'</li><li>'P3'</li><li>'Y1'</li><li>'Y3'</li></ol>\n"
            ]
          },
          "metadata": {
            "tags": []
          }
        },
        {
          "output_type": "display_data",
          "data": {
            "text/plain": [
              "\n",
              "  I   J   S   Y Sum \n",
              " 95 400  14   0 509 "
            ]
          },
          "metadata": {
            "tags": []
          }
        },
        {
          "output_type": "display_data",
          "data": {
            "text/plain": [
              "\n",
              "  1   2   3 Sum \n",
              " 95 400  14 509 "
            ]
          },
          "metadata": {
            "tags": []
          }
        },
        {
          "output_type": "display_data",
          "data": {
            "text/plain": [
              "\n",
              "FALSE \n",
              "16797 "
            ]
          },
          "metadata": {
            "tags": []
          }
        },
        {
          "output_type": "display_data",
          "data": {
            "text/plain": [
              " [1] \"Var9\"  \"Var11\" \"Var12\" \"Var13\" \"Var16\" \"Var17\" \"Var18\" \"Var21\" \"Var24\"\n",
              "[10] \"Var25\" \"Var26\" \"Var28\" \"Var29\" \"Var30\" \"Var31\" \"Var32\" \"Var33\" \"Var34\"\n",
              "[19] \"Var35\" \"Var36\" \"Var37\" \"Var49\" \"P1\"    \"P2\"    \"P3\"    \"Y1\"    \"Y3\"   "
            ],
            "text/latex": "\\begin{enumerate*}\n\\item 'Var9'\n\\item 'Var11'\n\\item 'Var12'\n\\item 'Var13'\n\\item 'Var16'\n\\item 'Var17'\n\\item 'Var18'\n\\item 'Var21'\n\\item 'Var24'\n\\item 'Var25'\n\\item 'Var26'\n\\item 'Var28'\n\\item 'Var29'\n\\item 'Var30'\n\\item 'Var31'\n\\item 'Var32'\n\\item 'Var33'\n\\item 'Var34'\n\\item 'Var35'\n\\item 'Var36'\n\\item 'Var37'\n\\item 'Var49'\n\\item 'P1'\n\\item 'P2'\n\\item 'P3'\n\\item 'Y1'\n\\item 'Y3'\n\\end{enumerate*}\n",
            "text/markdown": "1. 'Var9'\n2. 'Var11'\n3. 'Var12'\n4. 'Var13'\n5. 'Var16'\n6. 'Var17'\n7. 'Var18'\n8. 'Var21'\n9. 'Var24'\n10. 'Var25'\n11. 'Var26'\n12. 'Var28'\n13. 'Var29'\n14. 'Var30'\n15. 'Var31'\n16. 'Var32'\n17. 'Var33'\n18. 'Var34'\n19. 'Var35'\n20. 'Var36'\n21. 'Var37'\n22. 'Var49'\n23. 'P1'\n24. 'P2'\n25. 'P3'\n26. 'Y1'\n27. 'Y3'\n\n\n",
            "text/html": [
              "<style>\n",
              ".list-inline {list-style: none; margin:0; padding: 0}\n",
              ".list-inline>li {display: inline-block}\n",
              ".list-inline>li:not(:last-child)::after {content: \"\\00b7\"; padding: 0 .5ex}\n",
              "</style>\n",
              "<ol class=list-inline><li>'Var9'</li><li>'Var11'</li><li>'Var12'</li><li>'Var13'</li><li>'Var16'</li><li>'Var17'</li><li>'Var18'</li><li>'Var21'</li><li>'Var24'</li><li>'Var25'</li><li>'Var26'</li><li>'Var28'</li><li>'Var29'</li><li>'Var30'</li><li>'Var31'</li><li>'Var32'</li><li>'Var33'</li><li>'Var34'</li><li>'Var35'</li><li>'Var36'</li><li>'Var37'</li><li>'Var49'</li><li>'P1'</li><li>'P2'</li><li>'P3'</li><li>'Y1'</li><li>'Y3'</li></ol>\n"
            ]
          },
          "metadata": {
            "tags": []
          }
        },
        {
          "output_type": "display_data",
          "data": {
            "text/plain": [
              "    Var9        Var11      Var12       Var13      Var16      Var17     \n",
              "274  2.02983434 -0.1166984  0.44530318 -0.3111733 -0.5370508  2.0121546\n",
              "22   0.06769797  0.3862249 -0.67647401 -0.3111733 -0.5370508 -0.7828020\n",
              "91  -0.38306309 -0.1166984  0.02864308 -0.1078150 -0.5370508  0.7078415\n",
              "    Var18      Var21      Var24     Var25       ⋯ Var34     Var35     Var36    \n",
              "274  1.1399413 -0.5419886 0.1288659  0.57501977 ⋯ 0.5771982 1.1448911 1.1835285\n",
              "22  -2.3114960  0.5026317 0.4406080 -0.05433433 ⋯ 0.4439544 0.1695616 0.4582493\n",
              "91   0.7085117  1.0249419 0.1112255  0.09474005 ⋯ 0.3107107 0.1695616 0.4582493\n",
              "    Var37     Var49     P1         P2         P3         Y1     Y3    \n",
              "274 1.0708624 0.5459738 -0.3999170  2.4488194 -0.4234278 0.0193 Good  \n",
              "22  1.0708624 0.5459738  0.7431722 -0.7358183 -0.5813623 0.0189 Normal\n",
              "91  0.7654659 0.5459738  0.1716276  0.8565006 -0.4234278 0.0192 Normal"
            ],
            "text/latex": "A data.frame: 3 × 27\n\\begin{tabular}{r|lllllllllllllllllllll}\n  & Var9 & Var11 & Var12 & Var13 & Var16 & Var17 & Var18 & Var21 & Var24 & Var25 & ⋯ & Var34 & Var35 & Var36 & Var37 & Var49 & P1 & P2 & P3 & Y1 & Y3\\\\\n  & <dbl> & <dbl> & <dbl> & <dbl> & <dbl> & <dbl> & <dbl> & <dbl> & <dbl> & <dbl> & ⋯ & <dbl> & <dbl> & <dbl> & <dbl> & <dbl> & <dbl> & <dbl> & <dbl> & <dbl> & <fct>\\\\\n\\hline\n\t274 &  2.02983434 & -0.1166984 &  0.44530318 & -0.3111733 & -0.5370508 &  2.0121546 &  1.1399413 & -0.5419886 & 0.1288659 &  0.57501977 & ⋯ & 0.5771982 & 1.1448911 & 1.1835285 & 1.0708624 & 0.5459738 & -0.3999170 &  2.4488194 & -0.4234278 & 0.0193 & Good  \\\\\n\t22 &  0.06769797 &  0.3862249 & -0.67647401 & -0.3111733 & -0.5370508 & -0.7828020 & -2.3114960 &  0.5026317 & 0.4406080 & -0.05433433 & ⋯ & 0.4439544 & 0.1695616 & 0.4582493 & 1.0708624 & 0.5459738 &  0.7431722 & -0.7358183 & -0.5813623 & 0.0189 & Normal\\\\\n\t91 & -0.38306309 & -0.1166984 &  0.02864308 & -0.1078150 & -0.5370508 &  0.7078415 &  0.7085117 &  1.0249419 & 0.1112255 &  0.09474005 & ⋯ & 0.3107107 & 0.1695616 & 0.4582493 & 0.7654659 & 0.5459738 &  0.1716276 &  0.8565006 & -0.4234278 & 0.0192 & Normal\\\\\n\\end{tabular}\n",
            "text/markdown": "\nA data.frame: 3 × 27\n\n| <!--/--> | Var9 &lt;dbl&gt; | Var11 &lt;dbl&gt; | Var12 &lt;dbl&gt; | Var13 &lt;dbl&gt; | Var16 &lt;dbl&gt; | Var17 &lt;dbl&gt; | Var18 &lt;dbl&gt; | Var21 &lt;dbl&gt; | Var24 &lt;dbl&gt; | Var25 &lt;dbl&gt; | ⋯ ⋯ | Var34 &lt;dbl&gt; | Var35 &lt;dbl&gt; | Var36 &lt;dbl&gt; | Var37 &lt;dbl&gt; | Var49 &lt;dbl&gt; | P1 &lt;dbl&gt; | P2 &lt;dbl&gt; | P3 &lt;dbl&gt; | Y1 &lt;dbl&gt; | Y3 &lt;fct&gt; |\n|---|---|---|---|---|---|---|---|---|---|---|---|---|---|---|---|---|---|---|---|---|---|\n| 274 |  2.02983434 | -0.1166984 |  0.44530318 | -0.3111733 | -0.5370508 |  2.0121546 |  1.1399413 | -0.5419886 | 0.1288659 |  0.57501977 | ⋯ | 0.5771982 | 1.1448911 | 1.1835285 | 1.0708624 | 0.5459738 | -0.3999170 |  2.4488194 | -0.4234278 | 0.0193 | Good   |\n| 22 |  0.06769797 |  0.3862249 | -0.67647401 | -0.3111733 | -0.5370508 | -0.7828020 | -2.3114960 |  0.5026317 | 0.4406080 | -0.05433433 | ⋯ | 0.4439544 | 0.1695616 | 0.4582493 | 1.0708624 | 0.5459738 |  0.7431722 | -0.7358183 | -0.5813623 | 0.0189 | Normal |\n| 91 | -0.38306309 | -0.1166984 |  0.02864308 | -0.1078150 | -0.5370508 |  0.7078415 |  0.7085117 |  1.0249419 | 0.1112255 |  0.09474005 | ⋯ | 0.3107107 | 0.1695616 | 0.4582493 | 0.7654659 | 0.5459738 |  0.1716276 |  0.8565006 | -0.4234278 | 0.0192 | Normal |\n\n",
            "text/html": [
              "<table class=\"dataframe\">\n",
              "<caption>A data.frame: 3 × 27</caption>\n",
              "<thead>\n",
              "\t<tr><th></th><th scope=col>Var9</th><th scope=col>Var11</th><th scope=col>Var12</th><th scope=col>Var13</th><th scope=col>Var16</th><th scope=col>Var17</th><th scope=col>Var18</th><th scope=col>Var21</th><th scope=col>Var24</th><th scope=col>Var25</th><th scope=col>⋯</th><th scope=col>Var34</th><th scope=col>Var35</th><th scope=col>Var36</th><th scope=col>Var37</th><th scope=col>Var49</th><th scope=col>P1</th><th scope=col>P2</th><th scope=col>P3</th><th scope=col>Y1</th><th scope=col>Y3</th></tr>\n",
              "\t<tr><th></th><th scope=col>&lt;dbl&gt;</th><th scope=col>&lt;dbl&gt;</th><th scope=col>&lt;dbl&gt;</th><th scope=col>&lt;dbl&gt;</th><th scope=col>&lt;dbl&gt;</th><th scope=col>&lt;dbl&gt;</th><th scope=col>&lt;dbl&gt;</th><th scope=col>&lt;dbl&gt;</th><th scope=col>&lt;dbl&gt;</th><th scope=col>&lt;dbl&gt;</th><th scope=col>⋯</th><th scope=col>&lt;dbl&gt;</th><th scope=col>&lt;dbl&gt;</th><th scope=col>&lt;dbl&gt;</th><th scope=col>&lt;dbl&gt;</th><th scope=col>&lt;dbl&gt;</th><th scope=col>&lt;dbl&gt;</th><th scope=col>&lt;dbl&gt;</th><th scope=col>&lt;dbl&gt;</th><th scope=col>&lt;dbl&gt;</th><th scope=col>&lt;fct&gt;</th></tr>\n",
              "</thead>\n",
              "<tbody>\n",
              "\t<tr><th scope=row>274</th><td> 2.02983434</td><td>-0.1166984</td><td> 0.44530318</td><td>-0.3111733</td><td>-0.5370508</td><td> 2.0121546</td><td> 1.1399413</td><td>-0.5419886</td><td>0.1288659</td><td> 0.57501977</td><td>⋯</td><td>0.5771982</td><td>1.1448911</td><td>1.1835285</td><td>1.0708624</td><td>0.5459738</td><td>-0.3999170</td><td> 2.4488194</td><td>-0.4234278</td><td>0.0193</td><td>Good  </td></tr>\n",
              "\t<tr><th scope=row>22</th><td> 0.06769797</td><td> 0.3862249</td><td>-0.67647401</td><td>-0.3111733</td><td>-0.5370508</td><td>-0.7828020</td><td>-2.3114960</td><td> 0.5026317</td><td>0.4406080</td><td>-0.05433433</td><td>⋯</td><td>0.4439544</td><td>0.1695616</td><td>0.4582493</td><td>1.0708624</td><td>0.5459738</td><td> 0.7431722</td><td>-0.7358183</td><td>-0.5813623</td><td>0.0189</td><td>Normal</td></tr>\n",
              "\t<tr><th scope=row>91</th><td>-0.38306309</td><td>-0.1166984</td><td> 0.02864308</td><td>-0.1078150</td><td>-0.5370508</td><td> 0.7078415</td><td> 0.7085117</td><td> 1.0249419</td><td>0.1112255</td><td> 0.09474005</td><td>⋯</td><td>0.3107107</td><td>0.1695616</td><td>0.4582493</td><td>0.7654659</td><td>0.5459738</td><td> 0.1716276</td><td> 0.8565006</td><td>-0.4234278</td><td>0.0192</td><td>Normal</td></tr>\n",
              "</tbody>\n",
              "</table>\n"
            ]
          },
          "metadata": {
            "tags": []
          }
        },
        {
          "output_type": "display_data",
          "data": {
            "text/plain": [
              "  Var9        Var11      Var12      Var13      Var16      Var17      \n",
              "4  0.22679011  0.3862249  0.1888970  0.2989017  0.1973055 -0.03748026\n",
              "6  0.06769797 -0.6196218 -0.1316108 -1.1246066 -0.5370508 -0.78280201\n",
              "8 -0.86033950 -1.1225451  0.7978617 -0.7178899 -0.5370508 -0.78280201\n",
              "  Var18      Var21      Var24      Var25      ⋯ Var34      Var35     \n",
              "4 -0.1543477  0.8508385 -0.5501421 -0.3317961 ⋯ -0.3555081 -0.6107020\n",
              "6 -0.1543477 -1.2384021  0.6522919  1.1610804 ⋯ -0.4887519 -1.1958997\n",
              "8 -2.3114960  0.1544250  0.6245301  0.5212762 ⋯  0.1774669 -0.2205702\n",
              "  Var36      Var37      Var49      P1          P2         P3          Y1    \n",
              "4 -0.4483497  0.6127676  0.5459738  0.55265737 -1.1338981 -1.05516578 0.0196\n",
              "6 -1.5362685 -1.2196116 -1.2721974 -2.11455085 -0.9348582  0.68211362 0.0187\n",
              "8 -0.2670299  0.1546728 -1.2721974 -0.01888725 -1.1338981  0.05037566 0.0188\n",
              "  Y3  \n",
              "4 Good\n",
              "6 Good\n",
              "8 Good"
            ],
            "text/latex": "A data.frame: 3 × 27\n\\begin{tabular}{r|lllllllllllllllllllll}\n  & Var9 & Var11 & Var12 & Var13 & Var16 & Var17 & Var18 & Var21 & Var24 & Var25 & ⋯ & Var34 & Var35 & Var36 & Var37 & Var49 & P1 & P2 & P3 & Y1 & Y3\\\\\n  & <dbl> & <dbl> & <dbl> & <dbl> & <dbl> & <dbl> & <dbl> & <dbl> & <dbl> & <dbl> & ⋯ & <dbl> & <dbl> & <dbl> & <dbl> & <dbl> & <dbl> & <dbl> & <dbl> & <dbl> & <fct>\\\\\n\\hline\n\t4 &  0.22679011 &  0.3862249 &  0.1888970 &  0.2989017 &  0.1973055 & -0.03748026 & -0.1543477 &  0.8508385 & -0.5501421 & -0.3317961 & ⋯ & -0.3555081 & -0.6107020 & -0.4483497 &  0.6127676 &  0.5459738 &  0.55265737 & -1.1338981 & -1.05516578 & 0.0196 & Good\\\\\n\t6 &  0.06769797 & -0.6196218 & -0.1316108 & -1.1246066 & -0.5370508 & -0.78280201 & -0.1543477 & -1.2384021 &  0.6522919 &  1.1610804 & ⋯ & -0.4887519 & -1.1958997 & -1.5362685 & -1.2196116 & -1.2721974 & -2.11455085 & -0.9348582 &  0.68211362 & 0.0187 & Good\\\\\n\t8 & -0.86033950 & -1.1225451 &  0.7978617 & -0.7178899 & -0.5370508 & -0.78280201 & -2.3114960 &  0.1544250 &  0.6245301 &  0.5212762 & ⋯ &  0.1774669 & -0.2205702 & -0.2670299 &  0.1546728 & -1.2721974 & -0.01888725 & -1.1338981 &  0.05037566 & 0.0188 & Good\\\\\n\\end{tabular}\n",
            "text/markdown": "\nA data.frame: 3 × 27\n\n| <!--/--> | Var9 &lt;dbl&gt; | Var11 &lt;dbl&gt; | Var12 &lt;dbl&gt; | Var13 &lt;dbl&gt; | Var16 &lt;dbl&gt; | Var17 &lt;dbl&gt; | Var18 &lt;dbl&gt; | Var21 &lt;dbl&gt; | Var24 &lt;dbl&gt; | Var25 &lt;dbl&gt; | ⋯ ⋯ | Var34 &lt;dbl&gt; | Var35 &lt;dbl&gt; | Var36 &lt;dbl&gt; | Var37 &lt;dbl&gt; | Var49 &lt;dbl&gt; | P1 &lt;dbl&gt; | P2 &lt;dbl&gt; | P3 &lt;dbl&gt; | Y1 &lt;dbl&gt; | Y3 &lt;fct&gt; |\n|---|---|---|---|---|---|---|---|---|---|---|---|---|---|---|---|---|---|---|---|---|---|\n| 4 |  0.22679011 |  0.3862249 |  0.1888970 |  0.2989017 |  0.1973055 | -0.03748026 | -0.1543477 |  0.8508385 | -0.5501421 | -0.3317961 | ⋯ | -0.3555081 | -0.6107020 | -0.4483497 |  0.6127676 |  0.5459738 |  0.55265737 | -1.1338981 | -1.05516578 | 0.0196 | Good |\n| 6 |  0.06769797 | -0.6196218 | -0.1316108 | -1.1246066 | -0.5370508 | -0.78280201 | -0.1543477 | -1.2384021 |  0.6522919 |  1.1610804 | ⋯ | -0.4887519 | -1.1958997 | -1.5362685 | -1.2196116 | -1.2721974 | -2.11455085 | -0.9348582 |  0.68211362 | 0.0187 | Good |\n| 8 | -0.86033950 | -1.1225451 |  0.7978617 | -0.7178899 | -0.5370508 | -0.78280201 | -2.3114960 |  0.1544250 |  0.6245301 |  0.5212762 | ⋯ |  0.1774669 | -0.2205702 | -0.2670299 |  0.1546728 | -1.2721974 | -0.01888725 | -1.1338981 |  0.05037566 | 0.0188 | Good |\n\n",
            "text/html": [
              "<table class=\"dataframe\">\n",
              "<caption>A data.frame: 3 × 27</caption>\n",
              "<thead>\n",
              "\t<tr><th></th><th scope=col>Var9</th><th scope=col>Var11</th><th scope=col>Var12</th><th scope=col>Var13</th><th scope=col>Var16</th><th scope=col>Var17</th><th scope=col>Var18</th><th scope=col>Var21</th><th scope=col>Var24</th><th scope=col>Var25</th><th scope=col>⋯</th><th scope=col>Var34</th><th scope=col>Var35</th><th scope=col>Var36</th><th scope=col>Var37</th><th scope=col>Var49</th><th scope=col>P1</th><th scope=col>P2</th><th scope=col>P3</th><th scope=col>Y1</th><th scope=col>Y3</th></tr>\n",
              "\t<tr><th></th><th scope=col>&lt;dbl&gt;</th><th scope=col>&lt;dbl&gt;</th><th scope=col>&lt;dbl&gt;</th><th scope=col>&lt;dbl&gt;</th><th scope=col>&lt;dbl&gt;</th><th scope=col>&lt;dbl&gt;</th><th scope=col>&lt;dbl&gt;</th><th scope=col>&lt;dbl&gt;</th><th scope=col>&lt;dbl&gt;</th><th scope=col>&lt;dbl&gt;</th><th scope=col>⋯</th><th scope=col>&lt;dbl&gt;</th><th scope=col>&lt;dbl&gt;</th><th scope=col>&lt;dbl&gt;</th><th scope=col>&lt;dbl&gt;</th><th scope=col>&lt;dbl&gt;</th><th scope=col>&lt;dbl&gt;</th><th scope=col>&lt;dbl&gt;</th><th scope=col>&lt;dbl&gt;</th><th scope=col>&lt;dbl&gt;</th><th scope=col>&lt;fct&gt;</th></tr>\n",
              "</thead>\n",
              "<tbody>\n",
              "\t<tr><th scope=row>4</th><td> 0.22679011</td><td> 0.3862249</td><td> 0.1888970</td><td> 0.2989017</td><td> 0.1973055</td><td>-0.03748026</td><td>-0.1543477</td><td> 0.8508385</td><td>-0.5501421</td><td>-0.3317961</td><td>⋯</td><td>-0.3555081</td><td>-0.6107020</td><td>-0.4483497</td><td> 0.6127676</td><td> 0.5459738</td><td> 0.55265737</td><td>-1.1338981</td><td>-1.05516578</td><td>0.0196</td><td>Good</td></tr>\n",
              "\t<tr><th scope=row>6</th><td> 0.06769797</td><td>-0.6196218</td><td>-0.1316108</td><td>-1.1246066</td><td>-0.5370508</td><td>-0.78280201</td><td>-0.1543477</td><td>-1.2384021</td><td> 0.6522919</td><td> 1.1610804</td><td>⋯</td><td>-0.4887519</td><td>-1.1958997</td><td>-1.5362685</td><td>-1.2196116</td><td>-1.2721974</td><td>-2.11455085</td><td>-0.9348582</td><td> 0.68211362</td><td>0.0187</td><td>Good</td></tr>\n",
              "\t<tr><th scope=row>8</th><td>-0.86033950</td><td>-1.1225451</td><td> 0.7978617</td><td>-0.7178899</td><td>-0.5370508</td><td>-0.78280201</td><td>-2.3114960</td><td> 0.1544250</td><td> 0.6245301</td><td> 0.5212762</td><td>⋯</td><td> 0.1774669</td><td>-0.2205702</td><td>-0.2670299</td><td> 0.1546728</td><td>-1.2721974</td><td>-0.01888725</td><td>-1.1338981</td><td> 0.05037566</td><td>0.0188</td><td>Good</td></tr>\n",
              "</tbody>\n",
              "</table>\n"
            ]
          },
          "metadata": {
            "tags": []
          }
        },
        {
          "output_type": "display_data",
          "data": {
            "text/plain": [
              "[1] 696  27"
            ],
            "text/latex": "\\begin{enumerate*}\n\\item 696\n\\item 27\n\\end{enumerate*}\n",
            "text/markdown": "1. 696\n2. 27\n\n\n",
            "text/html": [
              "<style>\n",
              ".list-inline {list-style: none; margin:0; padding: 0}\n",
              ".list-inline>li {display: inline-block}\n",
              ".list-inline>li:not(:last-child)::after {content: \"\\00b7\"; padding: 0 .5ex}\n",
              "</style>\n",
              "<ol class=list-inline><li>696</li><li>27</li></ol>\n"
            ]
          },
          "metadata": {
            "tags": []
          }
        },
        {
          "output_type": "display_data",
          "data": {
            "text/plain": [
              "[1] 289  27"
            ],
            "text/latex": "\\begin{enumerate*}\n\\item 289\n\\item 27\n\\end{enumerate*}\n",
            "text/markdown": "1. 289\n2. 27\n\n\n",
            "text/html": [
              "<style>\n",
              ".list-inline {list-style: none; margin:0; padding: 0}\n",
              ".list-inline>li {display: inline-block}\n",
              ".list-inline>li:not(:last-child)::after {content: \"\\00b7\"; padding: 0 .5ex}\n",
              "</style>\n",
              "<ol class=list-inline><li>289</li><li>27</li></ol>\n"
            ]
          },
          "metadata": {
            "tags": []
          }
        }
      ]
    },
    {
      "cell_type": "code",
      "metadata": {
        "colab": {
          "base_uri": "https://localhost:8080/",
          "height": 548
        },
        "id": "ftASEJjGszEl",
        "outputId": "0a23b1fa-8d80-48c8-8b2c-1ef305ea8e19"
      },
      "source": [
        "# Performance Comparison --------------------------------------------------\n",
        "## 1. Default Parameters\n",
        "default_model = svm(Y3 ~ ., data = train[ , c(1:25, 27)],\n",
        "                    type = 'C-classification')\n",
        "\n",
        "default_pred <- predict(default_model, newdata = test[ , 1:25])\n",
        "\n",
        "default_result <- data.frame(default_pred, test$Y3) %>% \n",
        "  rename(Predicted = default_pred, Actual = test.Y3)\n",
        "\n",
        "with(default_result, confusionMatrix(Actual, Predicted))"
      ],
      "execution_count": 6,
      "outputs": [
        {
          "output_type": "display_data",
          "data": {
            "text/plain": [
              "Confusion Matrix and Statistics\n",
              "\n",
              "          Reference\n",
              "Prediction Normal Good Bad\n",
              "    Normal     78   54  12\n",
              "    Good       35   62   4\n",
              "    Bad         0    0  44\n",
              "\n",
              "Overall Statistics\n",
              "                                          \n",
              "               Accuracy : 0.6367          \n",
              "                 95% CI : (0.5783, 0.6922)\n",
              "    No Information Rate : 0.4014          \n",
              "    P-Value [Acc > NIR] : 6.271e-16       \n",
              "                                          \n",
              "                  Kappa : 0.4263          \n",
              "                                          \n",
              " Mcnemar's Test P-Value : 0.0001653       \n",
              "\n",
              "Statistics by Class:\n",
              "\n",
              "                     Class: Normal Class: Good Class: Bad\n",
              "Sensitivity                 0.6903      0.5345     0.7333\n",
              "Specificity                 0.6250      0.7746     1.0000\n",
              "Pos Pred Value              0.5417      0.6139     1.0000\n",
              "Neg Pred Value              0.7586      0.7128     0.9347\n",
              "Prevalence                  0.3910      0.4014     0.2076\n",
              "Detection Rate              0.2699      0.2145     0.1522\n",
              "Detection Prevalence        0.4983      0.3495     0.1522\n",
              "Balanced Accuracy           0.6576      0.6545     0.8667"
            ]
          },
          "metadata": {
            "tags": []
          }
        }
      ]
    }
  ]
}