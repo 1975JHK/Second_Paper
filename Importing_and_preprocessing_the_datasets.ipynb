{
  "nbformat": 4,
  "nbformat_minor": 0,
  "metadata": {
    "colab": {
      "name": "Importing and preprocessing the datasets",
      "provenance": [],
      "collapsed_sections": [],
      "authorship_tag": "ABX9TyPS9kpThJD1khyZVuX0fbmR",
      "include_colab_link": true
    },
    "kernelspec": {
      "name": "ir",
      "display_name": "R"
    },
    "language_info": {
      "name": "R"
    },
    "accelerator": "GPU"
  },
  "cells": [
    {
      "cell_type": "markdown",
      "metadata": {
        "id": "view-in-github",
        "colab_type": "text"
      },
      "source": [
        "<a href=\"https://colab.research.google.com/github/1975JHK/1975JHK.github.io/blob/main/Importing_and_preprocessing_the_datasets.ipynb\" target=\"_parent\"><img src=\"https://colab.research.google.com/assets/colab-badge.svg\" alt=\"Open In Colab\"/></a>"
      ]
    },
    {
      "cell_type": "code",
      "metadata": {
        "colab": {
          "base_uri": "https://localhost:8080/"
        },
        "id": "Xu-ru0JpESSA",
        "outputId": "d669bce0-974a-4dbe-950b-c6f0d2fa59d1"
      },
      "source": [
        "# Installing the required packages\n",
        "paks <- c('tidyverse', 'readxl', 'caret', 'see',\n",
        "            'e1071', 'DT', 'ROSE', 'easypackages')\n",
        "install.packages(paks)"
      ],
      "execution_count": 3,
      "outputs": [
        {
          "output_type": "stream",
          "text": [
            "Installing packages into ‘/usr/local/lib/R/site-library’\n",
            "(as ‘lib’ is unspecified)\n",
            "\n"
          ],
          "name": "stderr"
        }
      ]
    },
    {
      "cell_type": "code",
      "metadata": {
        "colab": {
          "base_uri": "https://localhost:8080/",
          "height": 1000
        },
        "id": "9tA_oAaK48z-",
        "outputId": "9252c08e-d9ff-4482-8b42-c3df8998950c"
      },
      "source": [
        "##################################################\n",
        "# Performance Comparison among predictive models #\n",
        "#  0) Rebalancing the dataset with SMOTE         #\n",
        "#  1) Default Parameters                         #\n",
        "#  2) Hyper-Parameters Optimization              #\n",
        "#  3) SVM Bagging                                #\n",
        "#  4) SVM Bagging + Baseline OOD Detection       #\n",
        "# Coded on August 20, 2020                       #\n",
        "# Coded By Robin Kim                             #\n",
        "##################################################\n",
        "  \n",
        "# Loading the required Package\n",
        "library(easypackages)\n",
        "libraries(c('tidyverse', 'readxl', 'caret', 'see',\n",
        "            'e1071', 'DT', 'ROSE'))\n",
        "\n",
        "# Setting up the environments\n",
        "Sys.setenv(LANG = 'en')\n",
        "theme_set(new = theme_minimal())\n",
        "options(warn=-1)\n",
        "\n",
        "# Importing the dataset\n",
        "raw <- read_excel('/content/process_data.xlsx')\n",
        "str(raw)\n",
        "\n",
        "\n",
        "# Initial Preprocessing ---------------------------------------------------\n",
        "## Extracting 2nd Plat Data from Raw Dataset\n",
        "raw <- raw %>% filter(Var1 == 'P2')\n",
        "\n",
        "## Feature Selection\n",
        "df <- raw[ , -c(1:6, 10, 14:15, 38:45, 51:61, 63:64)]\n",
        "colnames(df)\n",
        "\n",
        "## Handling the Not Availables\n",
        "apply(df, 2, function(x) sum(is.na(x)))\n",
        "df <- na.omit(df)\n",
        "\n",
        "## Classifying Tissu.Type\n",
        "df$Var49 <- ifelse(df$Var49 == 'J' & df$Var52 < 3000, 'S', df$Var49)\n",
        "df <- df[ , -35]\n",
        "\n",
        "## Removing features with zero variance \n",
        "nearZeroVar(df, saveMetrics = T)\n",
        "df.nvz <- nearZeroVar(df, saveMetrics = F)\n",
        "df <- df[ , -df.nvz]\n",
        "\n",
        "df <- df[ , -16]  # consists with zero(0)\n",
        "\n",
        "## Separating the dates\n",
        "df <- df %>% separate(Var8, into = c('Year', 'Month', 'Day'), sep = '/')\n",
        "df <- df %>% filter(!c(Year == '20' & Month %in% c('01', '02', '12')))\n",
        "addmargins(table(df$Month))\n",
        "\n",
        "## Encoding on Tissu.Type\n",
        "df$Var49 <- factor(df$Var49)\n",
        "\n",
        "## CTQ 정리\n",
        "df <- df[ , -c(30:32)] # Not the Target\n",
        "\n",
        "## Target\n",
        "df$Y3 <- apply(df[ , 28:29], 1, mean)\n",
        "df <- df[ , -c(28:29)]\n",
        "\n",
        "\n",
        "## Removing outliers\n",
        "### CTQs\n",
        "df <- df %>% filter(Y3 > -2.0, Y3 < -0.1)\n",
        "\n",
        "### React.Time\n",
        "df <- df %>% filter(Var11 > 10, Var11 < 50)\n",
        "\n",
        "### React.Temp\n",
        "df <- df %>% filter(Var12 > 50, Var12 < 150)\n",
        "\n",
        "### Line Speed\n",
        "df <- df %>% filter(Var24 > 3.0)\n",
        "\n",
        "### Upper and Lower Dryer Temp\n",
        "df <- df %>% filter(Var25 > 45 & Var25 < 70)\n",
        "df <- df %>% filter(Var26 > 45 & Var26 < 70)\n",
        "\n",
        "### Pressure2\n",
        "df <- df %>% filter(Var28 >= 0 & Var28 < 10)\n",
        "\n",
        "### Pressure3\n",
        "df <- df %>% filter(Var29 >= 0 & Var29 < 10)\n",
        "\n",
        "### Pressure4\n",
        "df <- df %>% filter(Var30 >= 0 & Var30 < 30)\n",
        "\n",
        "### Pressure5\n",
        "df <- df %>% filter(Var31 > 0)\n",
        "\n",
        "### Pressure6\n",
        "df <- df %>% filter(Var32 > 5)\n",
        "\n",
        "### Pressure7\n",
        "df <- df %>% filter(Var33 > 10)\n",
        "\n",
        "### Pressure8\n",
        "df <- df %>% filter(Var34 > 20)\n",
        "\n",
        "### Pressure9\n",
        "df <- df %>% filter(Var35 > 10)\n",
        "\n",
        "### Pressure10\n",
        "df <- df %>% filter(Var36 > 10)\n",
        "\n",
        "### Pressure11\n",
        "df <- df %>% filter(Var37 > 5 & Var37 < 40)\n",
        "\n",
        "### Blower\n",
        "df <- df %>% filter(Var18 < 12)\n",
        "\n",
        "### Viscosity\n",
        "df <- df %>% filter(Var9 >= 20000 & Var9 <= 50000)\n",
        "\n",
        "\n",
        "# Feature Engineering -----------------------------------------------------\n",
        "## Pressure slope on Dryers\n",
        "df <- df %>% mutate(P1 = Var32 - Var30,\n",
        "                    P2 = Var34 - Var32,\n",
        "                    P3 = Var34 - Var37)\n",
        "\n",
        "## Arranging dataset\n",
        "colnames(df)\n",
        "df <- df[ , c(1:28, 30:32, 29)]\n",
        "colnames(df)\n",
        "\n",
        "\n",
        "\n",
        "# Secondary Preprocessing -------------------------------------------------\n",
        "## Encoding : Y3(Target)\n",
        "df$Y3 <- case_when(df$Y3 < -1.00 ~ 'Bad',\n",
        "                   df$Y3 < 0.00 ~ 'Good',\n",
        "                   TRUE ~ 'NA')\n",
        "\n",
        "df$Y3 <- factor(df$Y3,\n",
        "                levels = c('Good', 'Bad'),\n",
        "                labels = c('Good', 'Bad'))\n",
        "\n",
        "## Encoding : Var49\n",
        "addmargins(table(df$Var49))\n",
        "df$Var49 <- as.numeric(df$Var49)\n",
        "addmargins(table(df$Var49))\n",
        "table(is.na(df))\n",
        "df <- na.omit(df)\n",
        "\n",
        "## Feature Selection\n",
        "df <- df[ , -c(1:4, 13:14)]\n",
        "colnames(df)\n",
        "\n",
        "\n",
        "## Rebalancing the extremely imbalanced dataset\n",
        "## Rebalance with SMOTE Method\n",
        "table(df$Y3)\n",
        "df <- ROSE(Y3 ~ ., data = df, seed = 1975)$data\n",
        "table(df$Y3)\n",
        "\n",
        "\n",
        "## Splitting the dataset into train and test set\n",
        "set.seed(1975)\n",
        "index <- sample(1:nrow(df), nrow(df)*0.70, replace = F)\n",
        "train <- df[index, ]\n",
        "test <- df[-index, ]\n",
        "\n",
        "\n",
        "## Scaling Features\n",
        "center = apply(train[ , 1:25], 2, mean)\n",
        "scale = apply(train[ , 1:25], 2, sd)\n",
        "train[ , -26] <- scale(train[ , -26], center = center, scale = scale)\n",
        "test[ , -26] <- scale(test[ , -26], center = center, scale = scale)\n",
        "head(train, 3)\n",
        "head(test, 3)\n",
        "dim(train)\n",
        "dim(test)"
      ],
      "execution_count": 9,
      "outputs": [
        {
          "output_type": "stream",
          "text": [
            "All packages loaded successfully\n",
            "\n"
          ],
          "name": "stderr"
        },
        {
          "output_type": "stream",
          "text": [
            "tibble [864 × 65] (S3: tbl_df/tbl/data.frame)\n",
            " $ Var1 : chr [1:864] \"P2\" \"P2\" \"P2\" \"P2\" ...\n",
            " $ Var2 : chr [1:864] \"P2\" \"P2\" \"P2\" \"P2\" ...\n",
            " $ Var3 : chr [1:864] \"P21\" \"P21\" \"P21\" \"P21\" ...\n",
            " $ Var4 : chr [1:864] \"P21\" \"P21\" \"P21\" \"P21\" ...\n",
            " $ Var5 : chr [1:864] \"P2D01\" \"P2D01\" \"P2D01\" \"P2D01\" ...\n",
            " $ Var6 : chr [1:864] \"P2D01\" \"P2D01\" \"P2D01\" \"P2D01\" ...\n",
            " $ Var7 : chr [1:864] \"P2D20205001\" \"P2D20205002\" \"P2D20205003\" \"P2D20206001\" ...\n",
            " $ Var8 : chr [1:864] \"20/02/05 수요일\" \"20/02/05 수요일\" \"20/02/05 수요일\" \"20/02/06 목요일\" ...\n",
            " $ Var9 : num [1:864] 32600 32600 32600 32600 32600 38000 33500 33500 31000 33500 ...\n",
            " $ Var10: num [1:864] 118 118 118 118 118 93.5 115 115 129 115 ...\n",
            " $ Var11: num [1:864] 25 25 25 25 25 27 26 26 23 26 ...\n",
            " $ Var12: num [1:864] 118 118 118 118 118 93.5 115 115 129 115 ...\n",
            " $ Var13: num [1:864] 70 80 80 50 50 50 60 60 60 60 ...\n",
            " $ Var14: num [1:864] 36 36 36 36 36 36 36 36 36 36 ...\n",
            " $ Var15: num [1:864] 1200 1200 1200 1200 1200 1200 1200 1200 1200 1200 ...\n",
            " $ Var16: num [1:864] 107 107 107 107 107 107 107 107 107 107 ...\n",
            " $ Var17: num [1:864] 20.1 19.8 19.8 20 19.5 19.5 19.5 19.5 19.5 19.5 ...\n",
            " $ Var18: num [1:864] 9.8 9.7 9.5 9.5 9.5 9.5 9.5 9.5 9.5 9.5 ...\n",
            " $ Var19: num [1:864] 3 3 3 3 3 3 3 3 3 3 ...\n",
            " $ Var20: num [1:864] 3 3 3 3 3 3 3 3 3 3 ...\n",
            " $ Var21: num [1:864] 16.4 17 17 16 16.4 ...\n",
            " $ Var22: num [1:864] 8.9 7.8 8 8.3 7.8 8.6 8.4 8.4 8.8 8.7 ...\n",
            " $ Var23: num [1:864] 0.2 0.9 1 -0.75 -0.3 -0.4 -0.7 -0.2 1.6 1.2 ...\n",
            " $ Var24: num [1:864] 14.5 14.5 14.5 14.6 15.2 ...\n",
            " $ Var25: num [1:864] 63 61 62 64.8 64 ...\n",
            " $ Var26: num [1:864] 63 61 63 63.7 65 ...\n",
            " $ Var27: num [1:864] 0 0 0 0 0 0 0 0 0 0 ...\n",
            " $ Var28: num [1:864] 0 0 0 0 0 0 0 0 0 0 ...\n",
            " $ Var29: num [1:864] 1 0 0 0 4 0 2 2 3 3 ...\n",
            " $ Var30: num [1:864] 20 15 17 0 32 17 21 23 25 25 ...\n",
            " $ Var31: num [1:864] 23 19 21 0 27 20 24 26 28 26 ...\n",
            " $ Var32: num [1:864] 49 51 51 0 42 46 47 48 48 48 ...\n",
            " $ Var33: num [1:864] 58 58 57 0 56 55 57 60 58 58 ...\n",
            " $ Var34: num [1:864] 58 60 61 -1 54 57 56 58 58 58 ...\n",
            " $ Var35: num [1:864] 37 38 39 0 33 35 36 37 36 37 ...\n",
            " $ Var36: num [1:864] 38 38 40 0 31 34 34 35 35 35 ...\n",
            " $ Var37: num [1:864] 42 44 46 0 33 36 37 39 39 39 ...\n",
            " $ Y1   : num [1:864] 0.0188 0.0188 0.019 0.0187 0.019 0.0191 0.0192 0.0188 0.0188 0.0189 ...\n",
            " $ Y21  : num [1:864] 166 171 177 164 172 ...\n",
            " $ Y22  : num [1:864] 170 177 194 167 174 ...\n",
            " $ Y23  : num [1:864] 168 154 191 146 148 ...\n",
            " $ Var38: num [1:864] 35.4 37.3 35.8 35.8 36.6 ...\n",
            " $ Var39: num [1:864] 36 36.3 36 36.1 36.3 ...\n",
            " $ Var40: num [1:864] 35.3 37.1 36.5 36.6 35.5 ...\n",
            " $ Y31  : num [1:864] 0 0 0 0 0 0 0 0 0 0 ...\n",
            " $ Y32  : num [1:864] -0.63 -0.5 -0.53 -1.06 -0.95 -1.19 -0.58 -0.91 -0.75 -0.98 ...\n",
            " $ Y33  : num [1:864] -0.74 -0.61 -0.66 -0.92 -0.87 -1.08 -0.75 -1.01 -0.96 -1.05 ...\n",
            " $ Y41  : num [1:864] 331 174 3243 322 254 ...\n",
            " $ Y42  : num [1:864] 338 194 274 321 284 ...\n",
            " $ Y43  : num [1:864] 370 162 250 338 333 ...\n",
            " $ Y51  : num [1:864] 470 246 382 450 430 ...\n",
            " $ Y52  : num [1:864] 428 133 319 535 423 ...\n",
            " $ Y53  : num [1:864] 426 246 370 547 421 ...\n",
            " $ Var41: num [1:864] 5.5 4.7 4.7 7 6.1 8.6 4.9 7.6 6.5 6.3 ...\n",
            " $ Var42: chr [1:864] \"P2E01\" \"P2E04\" \"P2E06\" \"P2E11\" ...\n",
            " $ Var43: chr [1:864] \"P2E01\" \"P2E04\" \"P2E06\" \"P2E11\" ...\n",
            " $ Var44: num [1:864] 99.4 99.8 99.1 99.8 98.9 ...\n",
            " $ Var45: num [1:864] 99.9 99.8 99.7 99.9 99.4 ...\n",
            " $ Var46: num [1:864] 85.1 87 86.7 86.2 82 ...\n",
            " $ Var47: num [1:864] 88 90.9 89.4 88.2 86.6 ...\n",
            " $ Var48: num [1:864] 13.3 14.6 12.8 10.9 14.2 ...\n",
            " $ Var49: chr [1:864] \"J\" \"J\" \"J\" \"J\" ...\n",
            " $ Var50: chr [1:864] \"PG\" \"PG\" \"PG\" \"PG\" ...\n",
            " $ Var51: chr [1:864] \"AP\" \"AP\" \"AP\" \"AP\" ...\n",
            " $ Var52: num [1:864] 4000 4000 3600 2650 3600 4000 2790 2710 2640 2630 ...\n"
          ],
          "name": "stdout"
        },
        {
          "output_type": "display_data",
          "data": {
            "text/plain": [
              " [1] \"Var7\"  \"Var8\"  \"Var9\"  \"Var11\" \"Var12\" \"Var13\" \"Var16\" \"Var17\" \"Var18\"\n",
              "[10] \"Var19\" \"Var20\" \"Var21\" \"Var22\" \"Var23\" \"Var24\" \"Var25\" \"Var26\" \"Var27\"\n",
              "[19] \"Var28\" \"Var29\" \"Var30\" \"Var31\" \"Var32\" \"Var33\" \"Var34\" \"Var35\" \"Var36\"\n",
              "[28] \"Var37\" \"Y32\"   \"Y33\"   \"Y41\"   \"Y42\"   \"Y43\"   \"Var49\" \"Var52\""
            ],
            "text/latex": "\\begin{enumerate*}\n\\item 'Var7'\n\\item 'Var8'\n\\item 'Var9'\n\\item 'Var11'\n\\item 'Var12'\n\\item 'Var13'\n\\item 'Var16'\n\\item 'Var17'\n\\item 'Var18'\n\\item 'Var19'\n\\item 'Var20'\n\\item 'Var21'\n\\item 'Var22'\n\\item 'Var23'\n\\item 'Var24'\n\\item 'Var25'\n\\item 'Var26'\n\\item 'Var27'\n\\item 'Var28'\n\\item 'Var29'\n\\item 'Var30'\n\\item 'Var31'\n\\item 'Var32'\n\\item 'Var33'\n\\item 'Var34'\n\\item 'Var35'\n\\item 'Var36'\n\\item 'Var37'\n\\item 'Y32'\n\\item 'Y33'\n\\item 'Y41'\n\\item 'Y42'\n\\item 'Y43'\n\\item 'Var49'\n\\item 'Var52'\n\\end{enumerate*}\n",
            "text/markdown": "1. 'Var7'\n2. 'Var8'\n3. 'Var9'\n4. 'Var11'\n5. 'Var12'\n6. 'Var13'\n7. 'Var16'\n8. 'Var17'\n9. 'Var18'\n10. 'Var19'\n11. 'Var20'\n12. 'Var21'\n13. 'Var22'\n14. 'Var23'\n15. 'Var24'\n16. 'Var25'\n17. 'Var26'\n18. 'Var27'\n19. 'Var28'\n20. 'Var29'\n21. 'Var30'\n22. 'Var31'\n23. 'Var32'\n24. 'Var33'\n25. 'Var34'\n26. 'Var35'\n27. 'Var36'\n28. 'Var37'\n29. 'Y32'\n30. 'Y33'\n31. 'Y41'\n32. 'Y42'\n33. 'Y43'\n34. 'Var49'\n35. 'Var52'\n\n\n",
            "text/html": [
              "<style>\n",
              ".list-inline {list-style: none; margin:0; padding: 0}\n",
              ".list-inline>li {display: inline-block}\n",
              ".list-inline>li:not(:last-child)::after {content: \"\\00b7\"; padding: 0 .5ex}\n",
              "</style>\n",
              "<ol class=list-inline><li>'Var7'</li><li>'Var8'</li><li>'Var9'</li><li>'Var11'</li><li>'Var12'</li><li>'Var13'</li><li>'Var16'</li><li>'Var17'</li><li>'Var18'</li><li>'Var19'</li><li>'Var20'</li><li>'Var21'</li><li>'Var22'</li><li>'Var23'</li><li>'Var24'</li><li>'Var25'</li><li>'Var26'</li><li>'Var27'</li><li>'Var28'</li><li>'Var29'</li><li>'Var30'</li><li>'Var31'</li><li>'Var32'</li><li>'Var33'</li><li>'Var34'</li><li>'Var35'</li><li>'Var36'</li><li>'Var37'</li><li>'Y32'</li><li>'Y33'</li><li>'Y41'</li><li>'Y42'</li><li>'Y43'</li><li>'Var49'</li><li>'Var52'</li></ol>\n"
            ]
          },
          "metadata": {}
        },
        {
          "output_type": "display_data",
          "data": {
            "text/plain": [
              " Var7  Var8  Var9 Var11 Var12 Var13 Var16 Var17 Var18 Var19 Var20 Var21 Var22 \n",
              "    0     0     0     0     0     0    75    75    75    75    75    75    75 \n",
              "Var23 Var24 Var25 Var26 Var27 Var28 Var29 Var30 Var31 Var32 Var33 Var34 Var35 \n",
              "   75    75    75    75     0     0     0     0     0     0     0     0     0 \n",
              "Var36 Var37   Y32   Y33   Y41   Y42   Y43 Var49 Var52 \n",
              "    0     0     0     0     0     0     0     0     0 "
            ],
            "text/latex": "\\begin{description*}\n\\item[Var7] 0\n\\item[Var8] 0\n\\item[Var9] 0\n\\item[Var11] 0\n\\item[Var12] 0\n\\item[Var13] 0\n\\item[Var16] 75\n\\item[Var17] 75\n\\item[Var18] 75\n\\item[Var19] 75\n\\item[Var20] 75\n\\item[Var21] 75\n\\item[Var22] 75\n\\item[Var23] 75\n\\item[Var24] 75\n\\item[Var25] 75\n\\item[Var26] 75\n\\item[Var27] 0\n\\item[Var28] 0\n\\item[Var29] 0\n\\item[Var30] 0\n\\item[Var31] 0\n\\item[Var32] 0\n\\item[Var33] 0\n\\item[Var34] 0\n\\item[Var35] 0\n\\item[Var36] 0\n\\item[Var37] 0\n\\item[Y32] 0\n\\item[Y33] 0\n\\item[Y41] 0\n\\item[Y42] 0\n\\item[Y43] 0\n\\item[Var49] 0\n\\item[Var52] 0\n\\end{description*}\n",
            "text/markdown": "Var7\n:   0Var8\n:   0Var9\n:   0Var11\n:   0Var12\n:   0Var13\n:   0Var16\n:   75Var17\n:   75Var18\n:   75Var19\n:   75Var20\n:   75Var21\n:   75Var22\n:   75Var23\n:   75Var24\n:   75Var25\n:   75Var26\n:   75Var27\n:   0Var28\n:   0Var29\n:   0Var30\n:   0Var31\n:   0Var32\n:   0Var33\n:   0Var34\n:   0Var35\n:   0Var36\n:   0Var37\n:   0Y32\n:   0Y33\n:   0Y41\n:   0Y42\n:   0Y43\n:   0Var49\n:   0Var52\n:   0\n\n",
            "text/html": [
              "<style>\n",
              ".dl-inline {width: auto; margin:0; padding: 0}\n",
              ".dl-inline>dt, .dl-inline>dd {float: none; width: auto; display: inline-block}\n",
              ".dl-inline>dt::after {content: \":\\0020\"; padding-right: .5ex}\n",
              ".dl-inline>dt:not(:first-of-type) {padding-left: .5ex}\n",
              "</style><dl class=dl-inline><dt>Var7</dt><dd>0</dd><dt>Var8</dt><dd>0</dd><dt>Var9</dt><dd>0</dd><dt>Var11</dt><dd>0</dd><dt>Var12</dt><dd>0</dd><dt>Var13</dt><dd>0</dd><dt>Var16</dt><dd>75</dd><dt>Var17</dt><dd>75</dd><dt>Var18</dt><dd>75</dd><dt>Var19</dt><dd>75</dd><dt>Var20</dt><dd>75</dd><dt>Var21</dt><dd>75</dd><dt>Var22</dt><dd>75</dd><dt>Var23</dt><dd>75</dd><dt>Var24</dt><dd>75</dd><dt>Var25</dt><dd>75</dd><dt>Var26</dt><dd>75</dd><dt>Var27</dt><dd>0</dd><dt>Var28</dt><dd>0</dd><dt>Var29</dt><dd>0</dd><dt>Var30</dt><dd>0</dd><dt>Var31</dt><dd>0</dd><dt>Var32</dt><dd>0</dd><dt>Var33</dt><dd>0</dd><dt>Var34</dt><dd>0</dd><dt>Var35</dt><dd>0</dd><dt>Var36</dt><dd>0</dd><dt>Var37</dt><dd>0</dd><dt>Y32</dt><dd>0</dd><dt>Y33</dt><dd>0</dd><dt>Y41</dt><dd>0</dd><dt>Y42</dt><dd>0</dd><dt>Y43</dt><dd>0</dd><dt>Var49</dt><dd>0</dd><dt>Var52</dt><dd>0</dd></dl>\n"
            ]
          },
          "metadata": {}
        },
        {
          "output_type": "display_data",
          "data": {
            "text/plain": [
              "      freqRatio percentUnique zeroVar nzv  \n",
              "Var7  1.000000  100.0000000   FALSE   FALSE\n",
              "Var8  1.000000   32.4461343   FALSE   FALSE\n",
              "Var9  1.400000   16.6032953   FALSE   FALSE\n",
              "Var11 1.012658    3.4220532   FALSE   FALSE\n",
              "Var12 1.346154   14.4486692   FALSE   FALSE\n",
              "Var13 1.109756    4.0557668   FALSE   FALSE\n",
              "Var16 3.537879    0.8871990   FALSE   FALSE\n",
              "Var17 1.061947    3.1685678   FALSE   FALSE\n",
              "Var18 2.119403    2.6615970   FALSE   FALSE\n",
              "Var19 0.000000    0.1267427    TRUE    TRUE\n",
              "Var20 0.000000    0.1267427    TRUE    TRUE\n",
              "Var21 1.137931    6.9708492   FALSE   FALSE\n",
              "Var22 1.139535    6.7173638   FALSE   FALSE\n",
              "Var23 1.031250    8.7452471   FALSE   FALSE\n",
              "Var24 1.000000   75.5386565   FALSE   FALSE\n",
              "Var25 1.184211   61.2167300   FALSE   FALSE\n",
              "Var26 1.068966   62.4841572   FALSE   FALSE\n",
              "Var27 9.450704    1.5209125   FALSE   FALSE\n",
              "Var28 5.712766    2.6615970   FALSE   FALSE\n",
              "Var29 6.623377    2.7883397   FALSE   FALSE\n",
              "Var30 1.050847    5.7034221   FALSE   FALSE\n",
              "Var31 1.194444    4.1825095   FALSE   FALSE\n",
              "Var32 1.048780    5.5766793   FALSE   FALSE\n",
              "Var33 1.069767    5.9569075   FALSE   FALSE\n",
              "Var34 1.239130    5.4499366   FALSE   FALSE\n",
              "Var35 1.015152    4.1825095   FALSE   FALSE\n",
              "Var36 1.040816    4.5627376   FALSE   FALSE\n",
              "Var37 1.250000    5.9569075   FALSE   FALSE\n",
              "Y32   1.120000   10.2661597   FALSE   FALSE\n",
              "Y33   1.000000   12.8010139   FALSE   FALSE\n",
              "Y41   5.000000   89.1001267   FALSE   FALSE\n",
              "Y42   3.750000   90.1140684   FALSE   FALSE\n",
              "Y43   4.250000   89.1001267   FALSE   FALSE\n",
              "Var49 3.934641    0.5069708   FALSE   FALSE"
            ],
            "text/latex": "A data.frame: 34 × 4\n\\begin{tabular}{r|llll}\n  & freqRatio & percentUnique & zeroVar & nzv\\\\\n  & <dbl> & <dbl> & <lgl> & <lgl>\\\\\n\\hline\n\tVar7 & 1.000000 & 100.0000000 & FALSE & FALSE\\\\\n\tVar8 & 1.000000 &  32.4461343 & FALSE & FALSE\\\\\n\tVar9 & 1.400000 &  16.6032953 & FALSE & FALSE\\\\\n\tVar11 & 1.012658 &   3.4220532 & FALSE & FALSE\\\\\n\tVar12 & 1.346154 &  14.4486692 & FALSE & FALSE\\\\\n\tVar13 & 1.109756 &   4.0557668 & FALSE & FALSE\\\\\n\tVar16 & 3.537879 &   0.8871990 & FALSE & FALSE\\\\\n\tVar17 & 1.061947 &   3.1685678 & FALSE & FALSE\\\\\n\tVar18 & 2.119403 &   2.6615970 & FALSE & FALSE\\\\\n\tVar19 & 0.000000 &   0.1267427 &  TRUE &  TRUE\\\\\n\tVar20 & 0.000000 &   0.1267427 &  TRUE &  TRUE\\\\\n\tVar21 & 1.137931 &   6.9708492 & FALSE & FALSE\\\\\n\tVar22 & 1.139535 &   6.7173638 & FALSE & FALSE\\\\\n\tVar23 & 1.031250 &   8.7452471 & FALSE & FALSE\\\\\n\tVar24 & 1.000000 &  75.5386565 & FALSE & FALSE\\\\\n\tVar25 & 1.184211 &  61.2167300 & FALSE & FALSE\\\\\n\tVar26 & 1.068966 &  62.4841572 & FALSE & FALSE\\\\\n\tVar27 & 9.450704 &   1.5209125 & FALSE & FALSE\\\\\n\tVar28 & 5.712766 &   2.6615970 & FALSE & FALSE\\\\\n\tVar29 & 6.623377 &   2.7883397 & FALSE & FALSE\\\\\n\tVar30 & 1.050847 &   5.7034221 & FALSE & FALSE\\\\\n\tVar31 & 1.194444 &   4.1825095 & FALSE & FALSE\\\\\n\tVar32 & 1.048780 &   5.5766793 & FALSE & FALSE\\\\\n\tVar33 & 1.069767 &   5.9569075 & FALSE & FALSE\\\\\n\tVar34 & 1.239130 &   5.4499366 & FALSE & FALSE\\\\\n\tVar35 & 1.015152 &   4.1825095 & FALSE & FALSE\\\\\n\tVar36 & 1.040816 &   4.5627376 & FALSE & FALSE\\\\\n\tVar37 & 1.250000 &   5.9569075 & FALSE & FALSE\\\\\n\tY32 & 1.120000 &  10.2661597 & FALSE & FALSE\\\\\n\tY33 & 1.000000 &  12.8010139 & FALSE & FALSE\\\\\n\tY41 & 5.000000 &  89.1001267 & FALSE & FALSE\\\\\n\tY42 & 3.750000 &  90.1140684 & FALSE & FALSE\\\\\n\tY43 & 4.250000 &  89.1001267 & FALSE & FALSE\\\\\n\tVar49 & 3.934641 &   0.5069708 & FALSE & FALSE\\\\\n\\end{tabular}\n",
            "text/markdown": "\nA data.frame: 34 × 4\n\n| <!--/--> | freqRatio &lt;dbl&gt; | percentUnique &lt;dbl&gt; | zeroVar &lt;lgl&gt; | nzv &lt;lgl&gt; |\n|---|---|---|---|---|\n| Var7 | 1.000000 | 100.0000000 | FALSE | FALSE |\n| Var8 | 1.000000 |  32.4461343 | FALSE | FALSE |\n| Var9 | 1.400000 |  16.6032953 | FALSE | FALSE |\n| Var11 | 1.012658 |   3.4220532 | FALSE | FALSE |\n| Var12 | 1.346154 |  14.4486692 | FALSE | FALSE |\n| Var13 | 1.109756 |   4.0557668 | FALSE | FALSE |\n| Var16 | 3.537879 |   0.8871990 | FALSE | FALSE |\n| Var17 | 1.061947 |   3.1685678 | FALSE | FALSE |\n| Var18 | 2.119403 |   2.6615970 | FALSE | FALSE |\n| Var19 | 0.000000 |   0.1267427 |  TRUE |  TRUE |\n| Var20 | 0.000000 |   0.1267427 |  TRUE |  TRUE |\n| Var21 | 1.137931 |   6.9708492 | FALSE | FALSE |\n| Var22 | 1.139535 |   6.7173638 | FALSE | FALSE |\n| Var23 | 1.031250 |   8.7452471 | FALSE | FALSE |\n| Var24 | 1.000000 |  75.5386565 | FALSE | FALSE |\n| Var25 | 1.184211 |  61.2167300 | FALSE | FALSE |\n| Var26 | 1.068966 |  62.4841572 | FALSE | FALSE |\n| Var27 | 9.450704 |   1.5209125 | FALSE | FALSE |\n| Var28 | 5.712766 |   2.6615970 | FALSE | FALSE |\n| Var29 | 6.623377 |   2.7883397 | FALSE | FALSE |\n| Var30 | 1.050847 |   5.7034221 | FALSE | FALSE |\n| Var31 | 1.194444 |   4.1825095 | FALSE | FALSE |\n| Var32 | 1.048780 |   5.5766793 | FALSE | FALSE |\n| Var33 | 1.069767 |   5.9569075 | FALSE | FALSE |\n| Var34 | 1.239130 |   5.4499366 | FALSE | FALSE |\n| Var35 | 1.015152 |   4.1825095 | FALSE | FALSE |\n| Var36 | 1.040816 |   4.5627376 | FALSE | FALSE |\n| Var37 | 1.250000 |   5.9569075 | FALSE | FALSE |\n| Y32 | 1.120000 |  10.2661597 | FALSE | FALSE |\n| Y33 | 1.000000 |  12.8010139 | FALSE | FALSE |\n| Y41 | 5.000000 |  89.1001267 | FALSE | FALSE |\n| Y42 | 3.750000 |  90.1140684 | FALSE | FALSE |\n| Y43 | 4.250000 |  89.1001267 | FALSE | FALSE |\n| Var49 | 3.934641 |   0.5069708 | FALSE | FALSE |\n\n",
            "text/html": [
              "<table class=\"dataframe\">\n",
              "<caption>A data.frame: 34 × 4</caption>\n",
              "<thead>\n",
              "\t<tr><th></th><th scope=col>freqRatio</th><th scope=col>percentUnique</th><th scope=col>zeroVar</th><th scope=col>nzv</th></tr>\n",
              "\t<tr><th></th><th scope=col>&lt;dbl&gt;</th><th scope=col>&lt;dbl&gt;</th><th scope=col>&lt;lgl&gt;</th><th scope=col>&lt;lgl&gt;</th></tr>\n",
              "</thead>\n",
              "<tbody>\n",
              "\t<tr><th scope=row>Var7</th><td>1.000000</td><td>100.0000000</td><td>FALSE</td><td>FALSE</td></tr>\n",
              "\t<tr><th scope=row>Var8</th><td>1.000000</td><td> 32.4461343</td><td>FALSE</td><td>FALSE</td></tr>\n",
              "\t<tr><th scope=row>Var9</th><td>1.400000</td><td> 16.6032953</td><td>FALSE</td><td>FALSE</td></tr>\n",
              "\t<tr><th scope=row>Var11</th><td>1.012658</td><td>  3.4220532</td><td>FALSE</td><td>FALSE</td></tr>\n",
              "\t<tr><th scope=row>Var12</th><td>1.346154</td><td> 14.4486692</td><td>FALSE</td><td>FALSE</td></tr>\n",
              "\t<tr><th scope=row>Var13</th><td>1.109756</td><td>  4.0557668</td><td>FALSE</td><td>FALSE</td></tr>\n",
              "\t<tr><th scope=row>Var16</th><td>3.537879</td><td>  0.8871990</td><td>FALSE</td><td>FALSE</td></tr>\n",
              "\t<tr><th scope=row>Var17</th><td>1.061947</td><td>  3.1685678</td><td>FALSE</td><td>FALSE</td></tr>\n",
              "\t<tr><th scope=row>Var18</th><td>2.119403</td><td>  2.6615970</td><td>FALSE</td><td>FALSE</td></tr>\n",
              "\t<tr><th scope=row>Var19</th><td>0.000000</td><td>  0.1267427</td><td> TRUE</td><td> TRUE</td></tr>\n",
              "\t<tr><th scope=row>Var20</th><td>0.000000</td><td>  0.1267427</td><td> TRUE</td><td> TRUE</td></tr>\n",
              "\t<tr><th scope=row>Var21</th><td>1.137931</td><td>  6.9708492</td><td>FALSE</td><td>FALSE</td></tr>\n",
              "\t<tr><th scope=row>Var22</th><td>1.139535</td><td>  6.7173638</td><td>FALSE</td><td>FALSE</td></tr>\n",
              "\t<tr><th scope=row>Var23</th><td>1.031250</td><td>  8.7452471</td><td>FALSE</td><td>FALSE</td></tr>\n",
              "\t<tr><th scope=row>Var24</th><td>1.000000</td><td> 75.5386565</td><td>FALSE</td><td>FALSE</td></tr>\n",
              "\t<tr><th scope=row>Var25</th><td>1.184211</td><td> 61.2167300</td><td>FALSE</td><td>FALSE</td></tr>\n",
              "\t<tr><th scope=row>Var26</th><td>1.068966</td><td> 62.4841572</td><td>FALSE</td><td>FALSE</td></tr>\n",
              "\t<tr><th scope=row>Var27</th><td>9.450704</td><td>  1.5209125</td><td>FALSE</td><td>FALSE</td></tr>\n",
              "\t<tr><th scope=row>Var28</th><td>5.712766</td><td>  2.6615970</td><td>FALSE</td><td>FALSE</td></tr>\n",
              "\t<tr><th scope=row>Var29</th><td>6.623377</td><td>  2.7883397</td><td>FALSE</td><td>FALSE</td></tr>\n",
              "\t<tr><th scope=row>Var30</th><td>1.050847</td><td>  5.7034221</td><td>FALSE</td><td>FALSE</td></tr>\n",
              "\t<tr><th scope=row>Var31</th><td>1.194444</td><td>  4.1825095</td><td>FALSE</td><td>FALSE</td></tr>\n",
              "\t<tr><th scope=row>Var32</th><td>1.048780</td><td>  5.5766793</td><td>FALSE</td><td>FALSE</td></tr>\n",
              "\t<tr><th scope=row>Var33</th><td>1.069767</td><td>  5.9569075</td><td>FALSE</td><td>FALSE</td></tr>\n",
              "\t<tr><th scope=row>Var34</th><td>1.239130</td><td>  5.4499366</td><td>FALSE</td><td>FALSE</td></tr>\n",
              "\t<tr><th scope=row>Var35</th><td>1.015152</td><td>  4.1825095</td><td>FALSE</td><td>FALSE</td></tr>\n",
              "\t<tr><th scope=row>Var36</th><td>1.040816</td><td>  4.5627376</td><td>FALSE</td><td>FALSE</td></tr>\n",
              "\t<tr><th scope=row>Var37</th><td>1.250000</td><td>  5.9569075</td><td>FALSE</td><td>FALSE</td></tr>\n",
              "\t<tr><th scope=row>Y32</th><td>1.120000</td><td> 10.2661597</td><td>FALSE</td><td>FALSE</td></tr>\n",
              "\t<tr><th scope=row>Y33</th><td>1.000000</td><td> 12.8010139</td><td>FALSE</td><td>FALSE</td></tr>\n",
              "\t<tr><th scope=row>Y41</th><td>5.000000</td><td> 89.1001267</td><td>FALSE</td><td>FALSE</td></tr>\n",
              "\t<tr><th scope=row>Y42</th><td>3.750000</td><td> 90.1140684</td><td>FALSE</td><td>FALSE</td></tr>\n",
              "\t<tr><th scope=row>Y43</th><td>4.250000</td><td> 89.1001267</td><td>FALSE</td><td>FALSE</td></tr>\n",
              "\t<tr><th scope=row>Var49</th><td>3.934641</td><td>  0.5069708</td><td>FALSE</td><td>FALSE</td></tr>\n",
              "</tbody>\n",
              "</table>\n"
            ]
          },
          "metadata": {}
        },
        {
          "output_type": "display_data",
          "data": {
            "text/plain": [
              "\n",
              " 03  04  05  06  07  08  09  10  11 Sum \n",
              " 83 128 102  83  72  48  61  63  59 699 "
            ]
          },
          "metadata": {}
        },
        {
          "output_type": "display_data",
          "data": {
            "text/plain": [
              " [1] \"Var7\"  \"Year\"  \"Month\" \"Day\"   \"Var9\"  \"Var11\" \"Var12\" \"Var13\" \"Var16\"\n",
              "[10] \"Var17\" \"Var18\" \"Var21\" \"Var22\" \"Var23\" \"Var24\" \"Var25\" \"Var26\" \"Var28\"\n",
              "[19] \"Var29\" \"Var30\" \"Var31\" \"Var32\" \"Var33\" \"Var34\" \"Var35\" \"Var36\" \"Var37\"\n",
              "[28] \"Var49\" \"Y3\"    \"P1\"    \"P2\"    \"P3\"   "
            ],
            "text/latex": "\\begin{enumerate*}\n\\item 'Var7'\n\\item 'Year'\n\\item 'Month'\n\\item 'Day'\n\\item 'Var9'\n\\item 'Var11'\n\\item 'Var12'\n\\item 'Var13'\n\\item 'Var16'\n\\item 'Var17'\n\\item 'Var18'\n\\item 'Var21'\n\\item 'Var22'\n\\item 'Var23'\n\\item 'Var24'\n\\item 'Var25'\n\\item 'Var26'\n\\item 'Var28'\n\\item 'Var29'\n\\item 'Var30'\n\\item 'Var31'\n\\item 'Var32'\n\\item 'Var33'\n\\item 'Var34'\n\\item 'Var35'\n\\item 'Var36'\n\\item 'Var37'\n\\item 'Var49'\n\\item 'Y3'\n\\item 'P1'\n\\item 'P2'\n\\item 'P3'\n\\end{enumerate*}\n",
            "text/markdown": "1. 'Var7'\n2. 'Year'\n3. 'Month'\n4. 'Day'\n5. 'Var9'\n6. 'Var11'\n7. 'Var12'\n8. 'Var13'\n9. 'Var16'\n10. 'Var17'\n11. 'Var18'\n12. 'Var21'\n13. 'Var22'\n14. 'Var23'\n15. 'Var24'\n16. 'Var25'\n17. 'Var26'\n18. 'Var28'\n19. 'Var29'\n20. 'Var30'\n21. 'Var31'\n22. 'Var32'\n23. 'Var33'\n24. 'Var34'\n25. 'Var35'\n26. 'Var36'\n27. 'Var37'\n28. 'Var49'\n29. 'Y3'\n30. 'P1'\n31. 'P2'\n32. 'P3'\n\n\n",
            "text/html": [
              "<style>\n",
              ".list-inline {list-style: none; margin:0; padding: 0}\n",
              ".list-inline>li {display: inline-block}\n",
              ".list-inline>li:not(:last-child)::after {content: \"\\00b7\"; padding: 0 .5ex}\n",
              "</style>\n",
              "<ol class=list-inline><li>'Var7'</li><li>'Year'</li><li>'Month'</li><li>'Day'</li><li>'Var9'</li><li>'Var11'</li><li>'Var12'</li><li>'Var13'</li><li>'Var16'</li><li>'Var17'</li><li>'Var18'</li><li>'Var21'</li><li>'Var22'</li><li>'Var23'</li><li>'Var24'</li><li>'Var25'</li><li>'Var26'</li><li>'Var28'</li><li>'Var29'</li><li>'Var30'</li><li>'Var31'</li><li>'Var32'</li><li>'Var33'</li><li>'Var34'</li><li>'Var35'</li><li>'Var36'</li><li>'Var37'</li><li>'Var49'</li><li>'Y3'</li><li>'P1'</li><li>'P2'</li><li>'P3'</li></ol>\n"
            ]
          },
          "metadata": {}
        },
        {
          "output_type": "display_data",
          "data": {
            "text/plain": [
              " [1] \"Var7\"  \"Year\"  \"Month\" \"Day\"   \"Var9\"  \"Var11\" \"Var12\" \"Var13\" \"Var16\"\n",
              "[10] \"Var17\" \"Var18\" \"Var21\" \"Var22\" \"Var23\" \"Var24\" \"Var25\" \"Var26\" \"Var28\"\n",
              "[19] \"Var29\" \"Var30\" \"Var31\" \"Var32\" \"Var33\" \"Var34\" \"Var35\" \"Var36\" \"Var37\"\n",
              "[28] \"Var49\" \"P1\"    \"P2\"    \"P3\"    \"Y3\"   "
            ],
            "text/latex": "\\begin{enumerate*}\n\\item 'Var7'\n\\item 'Year'\n\\item 'Month'\n\\item 'Day'\n\\item 'Var9'\n\\item 'Var11'\n\\item 'Var12'\n\\item 'Var13'\n\\item 'Var16'\n\\item 'Var17'\n\\item 'Var18'\n\\item 'Var21'\n\\item 'Var22'\n\\item 'Var23'\n\\item 'Var24'\n\\item 'Var25'\n\\item 'Var26'\n\\item 'Var28'\n\\item 'Var29'\n\\item 'Var30'\n\\item 'Var31'\n\\item 'Var32'\n\\item 'Var33'\n\\item 'Var34'\n\\item 'Var35'\n\\item 'Var36'\n\\item 'Var37'\n\\item 'Var49'\n\\item 'P1'\n\\item 'P2'\n\\item 'P3'\n\\item 'Y3'\n\\end{enumerate*}\n",
            "text/markdown": "1. 'Var7'\n2. 'Year'\n3. 'Month'\n4. 'Day'\n5. 'Var9'\n6. 'Var11'\n7. 'Var12'\n8. 'Var13'\n9. 'Var16'\n10. 'Var17'\n11. 'Var18'\n12. 'Var21'\n13. 'Var22'\n14. 'Var23'\n15. 'Var24'\n16. 'Var25'\n17. 'Var26'\n18. 'Var28'\n19. 'Var29'\n20. 'Var30'\n21. 'Var31'\n22. 'Var32'\n23. 'Var33'\n24. 'Var34'\n25. 'Var35'\n26. 'Var36'\n27. 'Var37'\n28. 'Var49'\n29. 'P1'\n30. 'P2'\n31. 'P3'\n32. 'Y3'\n\n\n",
            "text/html": [
              "<style>\n",
              ".list-inline {list-style: none; margin:0; padding: 0}\n",
              ".list-inline>li {display: inline-block}\n",
              ".list-inline>li:not(:last-child)::after {content: \"\\00b7\"; padding: 0 .5ex}\n",
              "</style>\n",
              "<ol class=list-inline><li>'Var7'</li><li>'Year'</li><li>'Month'</li><li>'Day'</li><li>'Var9'</li><li>'Var11'</li><li>'Var12'</li><li>'Var13'</li><li>'Var16'</li><li>'Var17'</li><li>'Var18'</li><li>'Var21'</li><li>'Var22'</li><li>'Var23'</li><li>'Var24'</li><li>'Var25'</li><li>'Var26'</li><li>'Var28'</li><li>'Var29'</li><li>'Var30'</li><li>'Var31'</li><li>'Var32'</li><li>'Var33'</li><li>'Var34'</li><li>'Var35'</li><li>'Var36'</li><li>'Var37'</li><li>'Var49'</li><li>'P1'</li><li>'P2'</li><li>'P3'</li><li>'Y3'</li></ol>\n"
            ]
          },
          "metadata": {}
        },
        {
          "output_type": "display_data",
          "data": {
            "text/plain": [
              "\n",
              "  I   J   S   Y Sum \n",
              " 95 400  14   0 509 "
            ]
          },
          "metadata": {}
        },
        {
          "output_type": "display_data",
          "data": {
            "text/plain": [
              "\n",
              "  1   2   3 Sum \n",
              " 95 400  14 509 "
            ]
          },
          "metadata": {}
        },
        {
          "output_type": "display_data",
          "data": {
            "text/plain": [
              "\n",
              "FALSE \n",
              "16288 "
            ]
          },
          "metadata": {}
        },
        {
          "output_type": "display_data",
          "data": {
            "text/plain": [
              " [1] \"Var9\"  \"Var11\" \"Var12\" \"Var13\" \"Var16\" \"Var17\" \"Var18\" \"Var21\" \"Var24\"\n",
              "[10] \"Var25\" \"Var26\" \"Var28\" \"Var29\" \"Var30\" \"Var31\" \"Var32\" \"Var33\" \"Var34\"\n",
              "[19] \"Var35\" \"Var36\" \"Var37\" \"Var49\" \"P1\"    \"P2\"    \"P3\"    \"Y3\"   "
            ],
            "text/latex": "\\begin{enumerate*}\n\\item 'Var9'\n\\item 'Var11'\n\\item 'Var12'\n\\item 'Var13'\n\\item 'Var16'\n\\item 'Var17'\n\\item 'Var18'\n\\item 'Var21'\n\\item 'Var24'\n\\item 'Var25'\n\\item 'Var26'\n\\item 'Var28'\n\\item 'Var29'\n\\item 'Var30'\n\\item 'Var31'\n\\item 'Var32'\n\\item 'Var33'\n\\item 'Var34'\n\\item 'Var35'\n\\item 'Var36'\n\\item 'Var37'\n\\item 'Var49'\n\\item 'P1'\n\\item 'P2'\n\\item 'P3'\n\\item 'Y3'\n\\end{enumerate*}\n",
            "text/markdown": "1. 'Var9'\n2. 'Var11'\n3. 'Var12'\n4. 'Var13'\n5. 'Var16'\n6. 'Var17'\n7. 'Var18'\n8. 'Var21'\n9. 'Var24'\n10. 'Var25'\n11. 'Var26'\n12. 'Var28'\n13. 'Var29'\n14. 'Var30'\n15. 'Var31'\n16. 'Var32'\n17. 'Var33'\n18. 'Var34'\n19. 'Var35'\n20. 'Var36'\n21. 'Var37'\n22. 'Var49'\n23. 'P1'\n24. 'P2'\n25. 'P3'\n26. 'Y3'\n\n\n",
            "text/html": [
              "<style>\n",
              ".list-inline {list-style: none; margin:0; padding: 0}\n",
              ".list-inline>li {display: inline-block}\n",
              ".list-inline>li:not(:last-child)::after {content: \"\\00b7\"; padding: 0 .5ex}\n",
              "</style>\n",
              "<ol class=list-inline><li>'Var9'</li><li>'Var11'</li><li>'Var12'</li><li>'Var13'</li><li>'Var16'</li><li>'Var17'</li><li>'Var18'</li><li>'Var21'</li><li>'Var24'</li><li>'Var25'</li><li>'Var26'</li><li>'Var28'</li><li>'Var29'</li><li>'Var30'</li><li>'Var31'</li><li>'Var32'</li><li>'Var33'</li><li>'Var34'</li><li>'Var35'</li><li>'Var36'</li><li>'Var37'</li><li>'Var49'</li><li>'P1'</li><li>'P2'</li><li>'P3'</li><li>'Y3'</li></ol>\n"
            ]
          },
          "metadata": {}
        },
        {
          "output_type": "display_data",
          "data": {
            "text/plain": [
              "\n",
              "Good  Bad \n",
              " 493   16 "
            ]
          },
          "metadata": {}
        },
        {
          "output_type": "display_data",
          "data": {
            "text/plain": [
              "\n",
              "Good  Bad \n",
              " 269  240 "
            ]
          },
          "metadata": {}
        },
        {
          "output_type": "display_data",
          "data": {
            "text/plain": [
              "    Var9      Var11      Var12      Var13      Var16       Var17     \n",
              "274 0.8283564 0.05083231 -0.9901318 -0.8816009 -0.07925396  0.3868064\n",
              "22  1.0536558 0.85172444 -1.5301811  1.2213453  2.14824232  0.1923349\n",
              "91  2.6699387 0.07885764  0.2853240  1.3813036  2.50030384 -0.4832947\n",
              "    Var18      Var21      Var24      Var25      ⋯ Var33      Var34     \n",
              "274 -1.3638514 -0.1426148 -0.1422607  0.9171992 ⋯  1.9707398 -0.5664891\n",
              "22   0.6507297  0.3227481  0.1300818 -0.5744650 ⋯ -0.5219517 -1.2801716\n",
              "91  -1.4646239  3.5339896 -1.0813539 -1.7120543 ⋯ -1.1126105 -1.5943254\n",
              "    Var35      Var36      Var37     Var49      P1         P2         P3        \n",
              "274 -1.2014848 -1.2827122 -1.074927 -0.6445660 -1.0912905  0.6448336  0.6753097\n",
              "22  -0.7061533  0.3382749 -0.255653  0.8341163  0.2199544 -0.3757925 -1.2936409\n",
              "91  -2.6825119 -1.4660361 -1.146756  0.2288065 -1.0616953 -1.1277256 -1.0594085\n",
              "    Y3  \n",
              "274 Bad \n",
              "22  Good\n",
              "91  Good"
            ],
            "text/latex": "A data.frame: 3 × 26\n\\begin{tabular}{r|lllllllllllllllllllll}\n  & Var9 & Var11 & Var12 & Var13 & Var16 & Var17 & Var18 & Var21 & Var24 & Var25 & ⋯ & Var33 & Var34 & Var35 & Var36 & Var37 & Var49 & P1 & P2 & P3 & Y3\\\\\n  & <dbl> & <dbl> & <dbl> & <dbl> & <dbl> & <dbl> & <dbl> & <dbl> & <dbl> & <dbl> & ⋯ & <dbl> & <dbl> & <dbl> & <dbl> & <dbl> & <dbl> & <dbl> & <dbl> & <dbl> & <fct>\\\\\n\\hline\n\t274 & 0.8283564 & 0.05083231 & -0.9901318 & -0.8816009 & -0.07925396 &  0.3868064 & -1.3638514 & -0.1426148 & -0.1422607 &  0.9171992 & ⋯ &  1.9707398 & -0.5664891 & -1.2014848 & -1.2827122 & -1.074927 & -0.6445660 & -1.0912905 &  0.6448336 &  0.6753097 & Bad \\\\\n\t22 & 1.0536558 & 0.85172444 & -1.5301811 &  1.2213453 &  2.14824232 &  0.1923349 &  0.6507297 &  0.3227481 &  0.1300818 & -0.5744650 & ⋯ & -0.5219517 & -1.2801716 & -0.7061533 &  0.3382749 & -0.255653 &  0.8341163 &  0.2199544 & -0.3757925 & -1.2936409 & Good\\\\\n\t91 & 2.6699387 & 0.07885764 &  0.2853240 &  1.3813036 &  2.50030384 & -0.4832947 & -1.4646239 &  3.5339896 & -1.0813539 & -1.7120543 & ⋯ & -1.1126105 & -1.5943254 & -2.6825119 & -1.4660361 & -1.146756 &  0.2288065 & -1.0616953 & -1.1277256 & -1.0594085 & Good\\\\\n\\end{tabular}\n",
            "text/markdown": "\nA data.frame: 3 × 26\n\n| <!--/--> | Var9 &lt;dbl&gt; | Var11 &lt;dbl&gt; | Var12 &lt;dbl&gt; | Var13 &lt;dbl&gt; | Var16 &lt;dbl&gt; | Var17 &lt;dbl&gt; | Var18 &lt;dbl&gt; | Var21 &lt;dbl&gt; | Var24 &lt;dbl&gt; | Var25 &lt;dbl&gt; | ⋯ ⋯ | Var33 &lt;dbl&gt; | Var34 &lt;dbl&gt; | Var35 &lt;dbl&gt; | Var36 &lt;dbl&gt; | Var37 &lt;dbl&gt; | Var49 &lt;dbl&gt; | P1 &lt;dbl&gt; | P2 &lt;dbl&gt; | P3 &lt;dbl&gt; | Y3 &lt;fct&gt; |\n|---|---|---|---|---|---|---|---|---|---|---|---|---|---|---|---|---|---|---|---|---|---|\n| 274 | 0.8283564 | 0.05083231 | -0.9901318 | -0.8816009 | -0.07925396 |  0.3868064 | -1.3638514 | -0.1426148 | -0.1422607 |  0.9171992 | ⋯ |  1.9707398 | -0.5664891 | -1.2014848 | -1.2827122 | -1.074927 | -0.6445660 | -1.0912905 |  0.6448336 |  0.6753097 | Bad  |\n| 22 | 1.0536558 | 0.85172444 | -1.5301811 |  1.2213453 |  2.14824232 |  0.1923349 |  0.6507297 |  0.3227481 |  0.1300818 | -0.5744650 | ⋯ | -0.5219517 | -1.2801716 | -0.7061533 |  0.3382749 | -0.255653 |  0.8341163 |  0.2199544 | -0.3757925 | -1.2936409 | Good |\n| 91 | 2.6699387 | 0.07885764 |  0.2853240 |  1.3813036 |  2.50030384 | -0.4832947 | -1.4646239 |  3.5339896 | -1.0813539 | -1.7120543 | ⋯ | -1.1126105 | -1.5943254 | -2.6825119 | -1.4660361 | -1.146756 |  0.2288065 | -1.0616953 | -1.1277256 | -1.0594085 | Good |\n\n",
            "text/html": [
              "<table class=\"dataframe\">\n",
              "<caption>A data.frame: 3 × 26</caption>\n",
              "<thead>\n",
              "\t<tr><th></th><th scope=col>Var9</th><th scope=col>Var11</th><th scope=col>Var12</th><th scope=col>Var13</th><th scope=col>Var16</th><th scope=col>Var17</th><th scope=col>Var18</th><th scope=col>Var21</th><th scope=col>Var24</th><th scope=col>Var25</th><th scope=col>⋯</th><th scope=col>Var33</th><th scope=col>Var34</th><th scope=col>Var35</th><th scope=col>Var36</th><th scope=col>Var37</th><th scope=col>Var49</th><th scope=col>P1</th><th scope=col>P2</th><th scope=col>P3</th><th scope=col>Y3</th></tr>\n",
              "\t<tr><th></th><th scope=col>&lt;dbl&gt;</th><th scope=col>&lt;dbl&gt;</th><th scope=col>&lt;dbl&gt;</th><th scope=col>&lt;dbl&gt;</th><th scope=col>&lt;dbl&gt;</th><th scope=col>&lt;dbl&gt;</th><th scope=col>&lt;dbl&gt;</th><th scope=col>&lt;dbl&gt;</th><th scope=col>&lt;dbl&gt;</th><th scope=col>&lt;dbl&gt;</th><th scope=col>⋯</th><th scope=col>&lt;dbl&gt;</th><th scope=col>&lt;dbl&gt;</th><th scope=col>&lt;dbl&gt;</th><th scope=col>&lt;dbl&gt;</th><th scope=col>&lt;dbl&gt;</th><th scope=col>&lt;dbl&gt;</th><th scope=col>&lt;dbl&gt;</th><th scope=col>&lt;dbl&gt;</th><th scope=col>&lt;dbl&gt;</th><th scope=col>&lt;fct&gt;</th></tr>\n",
              "</thead>\n",
              "<tbody>\n",
              "\t<tr><th scope=row>274</th><td>0.8283564</td><td>0.05083231</td><td>-0.9901318</td><td>-0.8816009</td><td>-0.07925396</td><td> 0.3868064</td><td>-1.3638514</td><td>-0.1426148</td><td>-0.1422607</td><td> 0.9171992</td><td>⋯</td><td> 1.9707398</td><td>-0.5664891</td><td>-1.2014848</td><td>-1.2827122</td><td>-1.074927</td><td>-0.6445660</td><td>-1.0912905</td><td> 0.6448336</td><td> 0.6753097</td><td>Bad </td></tr>\n",
              "\t<tr><th scope=row>22</th><td>1.0536558</td><td>0.85172444</td><td>-1.5301811</td><td> 1.2213453</td><td> 2.14824232</td><td> 0.1923349</td><td> 0.6507297</td><td> 0.3227481</td><td> 0.1300818</td><td>-0.5744650</td><td>⋯</td><td>-0.5219517</td><td>-1.2801716</td><td>-0.7061533</td><td> 0.3382749</td><td>-0.255653</td><td> 0.8341163</td><td> 0.2199544</td><td>-0.3757925</td><td>-1.2936409</td><td>Good</td></tr>\n",
              "\t<tr><th scope=row>91</th><td>2.6699387</td><td>0.07885764</td><td> 0.2853240</td><td> 1.3813036</td><td> 2.50030384</td><td>-0.4832947</td><td>-1.4646239</td><td> 3.5339896</td><td>-1.0813539</td><td>-1.7120543</td><td>⋯</td><td>-1.1126105</td><td>-1.5943254</td><td>-2.6825119</td><td>-1.4660361</td><td>-1.146756</td><td> 0.2288065</td><td>-1.0616953</td><td>-1.1277256</td><td>-1.0594085</td><td>Good</td></tr>\n",
              "</tbody>\n",
              "</table>\n"
            ]
          },
          "metadata": {}
        },
        {
          "output_type": "display_data",
          "data": {
            "text/plain": [
              "  Var9       Var11      Var12      Var13      Var16      Var17       Var18     \n",
              "4  1.5804628 -0.5207176 -0.4079966  1.8104838  1.6330475  1.02394889  0.2189316\n",
              "6 -0.8435108  0.5281642 -1.5120015 -0.2951873 -0.4051988 -0.63541404  0.1943267\n",
              "8 -0.7149838  0.5596349  0.8317754 -0.1408831  0.6525811 -0.06797849 -0.5665898\n",
              "  Var21      Var24      Var25      ⋯ Var33      Var34      Var35     \n",
              "4  1.6895452 -0.7172701 -0.9974547 ⋯ -1.0213058 -2.1639982 -1.1588018\n",
              "6 -0.1654659  2.0455381  0.8087920 ⋯  1.0364368  0.6494916  2.3950233\n",
              "8  2.2810636 -0.6977936 -0.9179767 ⋯  0.6501158 -1.6688305 -0.7940379\n",
              "  Var36      Var37       Var49     P1        P2         P3         Y3  \n",
              "4 -1.6389083 -1.24134291 0.9812878 0.1579262 -0.2879300 -0.1620307 Good\n",
              "6 -1.0688870 -1.11150149 0.2693773 0.9553758 -0.7398168  2.5643345 Good\n",
              "8 -0.4680053  0.02334385 0.3884793 1.1744626 -1.0659069 -0.8267937 Good"
            ],
            "text/latex": "A data.frame: 3 × 26\n\\begin{tabular}{r|lllllllllllllllllllll}\n  & Var9 & Var11 & Var12 & Var13 & Var16 & Var17 & Var18 & Var21 & Var24 & Var25 & ⋯ & Var33 & Var34 & Var35 & Var36 & Var37 & Var49 & P1 & P2 & P3 & Y3\\\\\n  & <dbl> & <dbl> & <dbl> & <dbl> & <dbl> & <dbl> & <dbl> & <dbl> & <dbl> & <dbl> & ⋯ & <dbl> & <dbl> & <dbl> & <dbl> & <dbl> & <dbl> & <dbl> & <dbl> & <dbl> & <fct>\\\\\n\\hline\n\t4 &  1.5804628 & -0.5207176 & -0.4079966 &  1.8104838 &  1.6330475 &  1.02394889 &  0.2189316 &  1.6895452 & -0.7172701 & -0.9974547 & ⋯ & -1.0213058 & -2.1639982 & -1.1588018 & -1.6389083 & -1.24134291 & 0.9812878 & 0.1579262 & -0.2879300 & -0.1620307 & Good\\\\\n\t6 & -0.8435108 &  0.5281642 & -1.5120015 & -0.2951873 & -0.4051988 & -0.63541404 &  0.1943267 & -0.1654659 &  2.0455381 &  0.8087920 & ⋯ &  1.0364368 &  0.6494916 &  2.3950233 & -1.0688870 & -1.11150149 & 0.2693773 & 0.9553758 & -0.7398168 &  2.5643345 & Good\\\\\n\t8 & -0.7149838 &  0.5596349 &  0.8317754 & -0.1408831 &  0.6525811 & -0.06797849 & -0.5665898 &  2.2810636 & -0.6977936 & -0.9179767 & ⋯ &  0.6501158 & -1.6688305 & -0.7940379 & -0.4680053 &  0.02334385 & 0.3884793 & 1.1744626 & -1.0659069 & -0.8267937 & Good\\\\\n\\end{tabular}\n",
            "text/markdown": "\nA data.frame: 3 × 26\n\n| <!--/--> | Var9 &lt;dbl&gt; | Var11 &lt;dbl&gt; | Var12 &lt;dbl&gt; | Var13 &lt;dbl&gt; | Var16 &lt;dbl&gt; | Var17 &lt;dbl&gt; | Var18 &lt;dbl&gt; | Var21 &lt;dbl&gt; | Var24 &lt;dbl&gt; | Var25 &lt;dbl&gt; | ⋯ ⋯ | Var33 &lt;dbl&gt; | Var34 &lt;dbl&gt; | Var35 &lt;dbl&gt; | Var36 &lt;dbl&gt; | Var37 &lt;dbl&gt; | Var49 &lt;dbl&gt; | P1 &lt;dbl&gt; | P2 &lt;dbl&gt; | P3 &lt;dbl&gt; | Y3 &lt;fct&gt; |\n|---|---|---|---|---|---|---|---|---|---|---|---|---|---|---|---|---|---|---|---|---|---|\n| 4 |  1.5804628 | -0.5207176 | -0.4079966 |  1.8104838 |  1.6330475 |  1.02394889 |  0.2189316 |  1.6895452 | -0.7172701 | -0.9974547 | ⋯ | -1.0213058 | -2.1639982 | -1.1588018 | -1.6389083 | -1.24134291 | 0.9812878 | 0.1579262 | -0.2879300 | -0.1620307 | Good |\n| 6 | -0.8435108 |  0.5281642 | -1.5120015 | -0.2951873 | -0.4051988 | -0.63541404 |  0.1943267 | -0.1654659 |  2.0455381 |  0.8087920 | ⋯ |  1.0364368 |  0.6494916 |  2.3950233 | -1.0688870 | -1.11150149 | 0.2693773 | 0.9553758 | -0.7398168 |  2.5643345 | Good |\n| 8 | -0.7149838 |  0.5596349 |  0.8317754 | -0.1408831 |  0.6525811 | -0.06797849 | -0.5665898 |  2.2810636 | -0.6977936 | -0.9179767 | ⋯ |  0.6501158 | -1.6688305 | -0.7940379 | -0.4680053 |  0.02334385 | 0.3884793 | 1.1744626 | -1.0659069 | -0.8267937 | Good |\n\n",
            "text/html": [
              "<table class=\"dataframe\">\n",
              "<caption>A data.frame: 3 × 26</caption>\n",
              "<thead>\n",
              "\t<tr><th></th><th scope=col>Var9</th><th scope=col>Var11</th><th scope=col>Var12</th><th scope=col>Var13</th><th scope=col>Var16</th><th scope=col>Var17</th><th scope=col>Var18</th><th scope=col>Var21</th><th scope=col>Var24</th><th scope=col>Var25</th><th scope=col>⋯</th><th scope=col>Var33</th><th scope=col>Var34</th><th scope=col>Var35</th><th scope=col>Var36</th><th scope=col>Var37</th><th scope=col>Var49</th><th scope=col>P1</th><th scope=col>P2</th><th scope=col>P3</th><th scope=col>Y3</th></tr>\n",
              "\t<tr><th></th><th scope=col>&lt;dbl&gt;</th><th scope=col>&lt;dbl&gt;</th><th scope=col>&lt;dbl&gt;</th><th scope=col>&lt;dbl&gt;</th><th scope=col>&lt;dbl&gt;</th><th scope=col>&lt;dbl&gt;</th><th scope=col>&lt;dbl&gt;</th><th scope=col>&lt;dbl&gt;</th><th scope=col>&lt;dbl&gt;</th><th scope=col>&lt;dbl&gt;</th><th scope=col>⋯</th><th scope=col>&lt;dbl&gt;</th><th scope=col>&lt;dbl&gt;</th><th scope=col>&lt;dbl&gt;</th><th scope=col>&lt;dbl&gt;</th><th scope=col>&lt;dbl&gt;</th><th scope=col>&lt;dbl&gt;</th><th scope=col>&lt;dbl&gt;</th><th scope=col>&lt;dbl&gt;</th><th scope=col>&lt;dbl&gt;</th><th scope=col>&lt;fct&gt;</th></tr>\n",
              "</thead>\n",
              "<tbody>\n",
              "\t<tr><th scope=row>4</th><td> 1.5804628</td><td>-0.5207176</td><td>-0.4079966</td><td> 1.8104838</td><td> 1.6330475</td><td> 1.02394889</td><td> 0.2189316</td><td> 1.6895452</td><td>-0.7172701</td><td>-0.9974547</td><td>⋯</td><td>-1.0213058</td><td>-2.1639982</td><td>-1.1588018</td><td>-1.6389083</td><td>-1.24134291</td><td>0.9812878</td><td>0.1579262</td><td>-0.2879300</td><td>-0.1620307</td><td>Good</td></tr>\n",
              "\t<tr><th scope=row>6</th><td>-0.8435108</td><td> 0.5281642</td><td>-1.5120015</td><td>-0.2951873</td><td>-0.4051988</td><td>-0.63541404</td><td> 0.1943267</td><td>-0.1654659</td><td> 2.0455381</td><td> 0.8087920</td><td>⋯</td><td> 1.0364368</td><td> 0.6494916</td><td> 2.3950233</td><td>-1.0688870</td><td>-1.11150149</td><td>0.2693773</td><td>0.9553758</td><td>-0.7398168</td><td> 2.5643345</td><td>Good</td></tr>\n",
              "\t<tr><th scope=row>8</th><td>-0.7149838</td><td> 0.5596349</td><td> 0.8317754</td><td>-0.1408831</td><td> 0.6525811</td><td>-0.06797849</td><td>-0.5665898</td><td> 2.2810636</td><td>-0.6977936</td><td>-0.9179767</td><td>⋯</td><td> 0.6501158</td><td>-1.6688305</td><td>-0.7940379</td><td>-0.4680053</td><td> 0.02334385</td><td>0.3884793</td><td>1.1744626</td><td>-1.0659069</td><td>-0.8267937</td><td>Good</td></tr>\n",
              "</tbody>\n",
              "</table>\n"
            ]
          },
          "metadata": {}
        },
        {
          "output_type": "display_data",
          "data": {
            "text/plain": [
              "[1] 356  26"
            ],
            "text/latex": "\\begin{enumerate*}\n\\item 356\n\\item 26\n\\end{enumerate*}\n",
            "text/markdown": "1. 356\n2. 26\n\n\n",
            "text/html": [
              "<style>\n",
              ".list-inline {list-style: none; margin:0; padding: 0}\n",
              ".list-inline>li {display: inline-block}\n",
              ".list-inline>li:not(:last-child)::after {content: \"\\00b7\"; padding: 0 .5ex}\n",
              "</style>\n",
              "<ol class=list-inline><li>356</li><li>26</li></ol>\n"
            ]
          },
          "metadata": {}
        },
        {
          "output_type": "display_data",
          "data": {
            "text/plain": [
              "[1] 153  26"
            ],
            "text/latex": "\\begin{enumerate*}\n\\item 153\n\\item 26\n\\end{enumerate*}\n",
            "text/markdown": "1. 153\n2. 26\n\n\n",
            "text/html": [
              "<style>\n",
              ".list-inline {list-style: none; margin:0; padding: 0}\n",
              ".list-inline>li {display: inline-block}\n",
              ".list-inline>li:not(:last-child)::after {content: \"\\00b7\"; padding: 0 .5ex}\n",
              "</style>\n",
              "<ol class=list-inline><li>153</li><li>26</li></ol>\n"
            ]
          },
          "metadata": {}
        }
      ]
    }
  ]
}