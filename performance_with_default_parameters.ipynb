{
  "nbformat": 4,
  "nbformat_minor": 0,
  "metadata": {
    "colab": {
      "name": "performance with default parameters",
      "provenance": [],
      "collapsed_sections": [],
      "authorship_tag": "ABX9TyO6LEtjlEB7uVspXCHt+WCR",
      "include_colab_link": true
    },
    "kernelspec": {
      "name": "ir",
      "display_name": "R"
    },
    "language_info": {
      "name": "R"
    },
    "accelerator": "GPU"
  },
  "cells": [
    {
      "cell_type": "markdown",
      "metadata": {
        "id": "view-in-github",
        "colab_type": "text"
      },
      "source": [
        "<a href=\"https://colab.research.google.com/github/1975JHK/1975JHK.github.io/blob/main/performance_with_default_parameters.ipynb\" target=\"_parent\"><img src=\"https://colab.research.google.com/assets/colab-badge.svg\" alt=\"Open In Colab\"/></a>"
      ]
    },
    {
      "cell_type": "code",
      "metadata": {
        "colab": {
          "base_uri": "https://localhost:8080/",
          "height": 548
        },
        "id": "QLzZpXlsytfT",
        "outputId": "0db18f58-ac90-481e-92ae-f784138d00ed"
      },
      "source": [
        "# Performance Comparison --------------------------------------------------\n",
        "## 1. Default Parameters\n",
        "default_model = svm(Y3 ~ ., data = train[ , c(1:25, 27)],\n",
        "                    type = 'C-classification')\n",
        "\n",
        "default_pred <- predict(default_model, newdata = test[ , 1:25])\n",
        "\n",
        "default_result <- data.frame(default_pred, test$Y3) %>% \n",
        "  rename(Predicted = default_pred, Actual = test.Y3)\n",
        "\n",
        "with(default_result, confusionMatrix(Actual, Predicted))"
      ],
      "execution_count": 7,
      "outputs": [
        {
          "output_type": "display_data",
          "data": {
            "text/plain": [
              "Confusion Matrix and Statistics\n",
              "\n",
              "          Reference\n",
              "Prediction Normal Good Bad\n",
              "    Normal     78   54  12\n",
              "    Good       35   62   4\n",
              "    Bad         0    0  44\n",
              "\n",
              "Overall Statistics\n",
              "                                          \n",
              "               Accuracy : 0.6367          \n",
              "                 95% CI : (0.5783, 0.6922)\n",
              "    No Information Rate : 0.4014          \n",
              "    P-Value [Acc > NIR] : 6.271e-16       \n",
              "                                          \n",
              "                  Kappa : 0.4263          \n",
              "                                          \n",
              " Mcnemar's Test P-Value : 0.0001653       \n",
              "\n",
              "Statistics by Class:\n",
              "\n",
              "                     Class: Normal Class: Good Class: Bad\n",
              "Sensitivity                 0.6903      0.5345     0.7333\n",
              "Specificity                 0.6250      0.7746     1.0000\n",
              "Pos Pred Value              0.5417      0.6139     1.0000\n",
              "Neg Pred Value              0.7586      0.7128     0.9347\n",
              "Prevalence                  0.3910      0.4014     0.2076\n",
              "Detection Rate              0.2699      0.2145     0.1522\n",
              "Detection Prevalence        0.4983      0.3495     0.1522\n",
              "Balanced Accuracy           0.6576      0.6545     0.8667"
            ]
          },
          "metadata": {
            "tags": []
          }
        }
      ]
    }
  ]
}